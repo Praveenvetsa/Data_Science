{
 "cells": [
  {
   "cell_type": "markdown",
   "id": "fe5a6931",
   "metadata": {},
   "source": [
    "# convert raw data to clean data without using type conversion"
   ]
  },
  {
   "cell_type": "code",
   "execution_count": 1,
   "id": "0aa40916",
   "metadata": {},
   "outputs": [],
   "source": [
    "import pandas as pd"
   ]
  },
  {
   "cell_type": "code",
   "execution_count": 2,
   "id": "4f1b66b4",
   "metadata": {},
   "outputs": [],
   "source": [
    "df = pd.read_excel(r'C:\\Users\\LENOVO\\OneDrive\\Desktop\\raw data.xlsx')"
   ]
  },
  {
   "cell_type": "code",
   "execution_count": 3,
   "id": "d772411b",
   "metadata": {},
   "outputs": [
    {
     "data": {
      "text/html": [
       "<div>\n",
       "<style scoped>\n",
       "    .dataframe tbody tr th:only-of-type {\n",
       "        vertical-align: middle;\n",
       "    }\n",
       "\n",
       "    .dataframe tbody tr th {\n",
       "        vertical-align: top;\n",
       "    }\n",
       "\n",
       "    .dataframe thead th {\n",
       "        text-align: right;\n",
       "    }\n",
       "</style>\n",
       "<table border=\"1\" class=\"dataframe\">\n",
       "  <thead>\n",
       "    <tr style=\"text-align: right;\">\n",
       "      <th></th>\n",
       "      <th>ADDRESS</th>\n",
       "      <th>date</th>\n",
       "      <th>time</th>\n",
       "    </tr>\n",
       "  </thead>\n",
       "  <tbody>\n",
       "    <tr>\n",
       "      <th>0</th>\n",
       "      <td>56th ben colony, btm layout, bangalore ,78909</td>\n",
       "      <td>3rd apr 2022</td>\n",
       "      <td>5hr 55min 8sec</td>\n",
       "    </tr>\n",
       "    <tr>\n",
       "      <th>1</th>\n",
       "      <td>20th street, johns road,  banglore,567</td>\n",
       "      <td>6th dec 2021</td>\n",
       "      <td>10hr 20min 5sec</td>\n",
       "    </tr>\n",
       "  </tbody>\n",
       "</table>\n",
       "</div>"
      ],
      "text/plain": [
       "                                         ADDRESS          date  \\\n",
       "0  56th ben colony, btm layout, bangalore ,78909  3rd apr 2022   \n",
       "1         20th street, johns road,  banglore,567  6th dec 2021   \n",
       "\n",
       "              time  \n",
       "0   5hr 55min 8sec  \n",
       "1  10hr 20min 5sec  "
      ]
     },
     "execution_count": 3,
     "metadata": {},
     "output_type": "execute_result"
    }
   ],
   "source": [
    "df"
   ]
  },
  {
   "cell_type": "code",
   "execution_count": 4,
   "id": "46ea2b87",
   "metadata": {},
   "outputs": [],
   "source": [
    "df[['House no','Street','City','Zipcode']] = df['ADDRESS'].str.split(',',expand = True)"
   ]
  },
  {
   "cell_type": "code",
   "execution_count": 5,
   "id": "2a4141b1",
   "metadata": {},
   "outputs": [],
   "source": [
    "df[['day','month','year']]=df['date'].str.split(' ',expand = True)"
   ]
  },
  {
   "cell_type": "code",
   "execution_count": 6,
   "id": "c484b07b",
   "metadata": {},
   "outputs": [],
   "source": [
    "df[['hour','min','sec']]=df['time'].str.split(' ',expand = True)"
   ]
  },
  {
   "cell_type": "code",
   "execution_count": 7,
   "id": "084a25f5",
   "metadata": {},
   "outputs": [
    {
     "data": {
      "text/html": [
       "<div>\n",
       "<style scoped>\n",
       "    .dataframe tbody tr th:only-of-type {\n",
       "        vertical-align: middle;\n",
       "    }\n",
       "\n",
       "    .dataframe tbody tr th {\n",
       "        vertical-align: top;\n",
       "    }\n",
       "\n",
       "    .dataframe thead th {\n",
       "        text-align: right;\n",
       "    }\n",
       "</style>\n",
       "<table border=\"1\" class=\"dataframe\">\n",
       "  <thead>\n",
       "    <tr style=\"text-align: right;\">\n",
       "      <th></th>\n",
       "      <th>ADDRESS</th>\n",
       "      <th>date</th>\n",
       "      <th>time</th>\n",
       "      <th>House no</th>\n",
       "      <th>Street</th>\n",
       "      <th>City</th>\n",
       "      <th>Zipcode</th>\n",
       "      <th>day</th>\n",
       "      <th>month</th>\n",
       "      <th>year</th>\n",
       "      <th>hour</th>\n",
       "      <th>min</th>\n",
       "      <th>sec</th>\n",
       "    </tr>\n",
       "  </thead>\n",
       "  <tbody>\n",
       "    <tr>\n",
       "      <th>0</th>\n",
       "      <td>56th ben colony, btm layout, bangalore ,78909</td>\n",
       "      <td>3rd apr 2022</td>\n",
       "      <td>5hr 55min 8sec</td>\n",
       "      <td>56th ben colony</td>\n",
       "      <td>btm layout</td>\n",
       "      <td>bangalore</td>\n",
       "      <td>78909</td>\n",
       "      <td>3rd</td>\n",
       "      <td>apr</td>\n",
       "      <td>2022</td>\n",
       "      <td>5hr</td>\n",
       "      <td>55min</td>\n",
       "      <td>8sec</td>\n",
       "    </tr>\n",
       "    <tr>\n",
       "      <th>1</th>\n",
       "      <td>20th street, johns road,  banglore,567</td>\n",
       "      <td>6th dec 2021</td>\n",
       "      <td>10hr 20min 5sec</td>\n",
       "      <td>20th street</td>\n",
       "      <td>johns road</td>\n",
       "      <td>banglore</td>\n",
       "      <td>567</td>\n",
       "      <td>6th</td>\n",
       "      <td>dec</td>\n",
       "      <td>2021</td>\n",
       "      <td>10hr</td>\n",
       "      <td>20min</td>\n",
       "      <td>5sec</td>\n",
       "    </tr>\n",
       "  </tbody>\n",
       "</table>\n",
       "</div>"
      ],
      "text/plain": [
       "                                         ADDRESS          date  \\\n",
       "0  56th ben colony, btm layout, bangalore ,78909  3rd apr 2022   \n",
       "1         20th street, johns road,  banglore,567  6th dec 2021   \n",
       "\n",
       "              time         House no       Street         City Zipcode  day  \\\n",
       "0   5hr 55min 8sec  56th ben colony   btm layout   bangalore    78909  3rd   \n",
       "1  10hr 20min 5sec      20th street   johns road     banglore     567  6th   \n",
       "\n",
       "  month  year  hour    min   sec  \n",
       "0   apr  2022   5hr  55min  8sec  \n",
       "1   dec  2021  10hr  20min  5sec  "
      ]
     },
     "execution_count": 7,
     "metadata": {},
     "output_type": "execute_result"
    }
   ],
   "source": [
    "df"
   ]
  },
  {
   "cell_type": "markdown",
   "id": "c358ec73",
   "metadata": {},
   "source": [
    "# converting raw data to clean data by using type conversion"
   ]
  },
  {
   "cell_type": "code",
   "execution_count": 8,
   "id": "c7b5a3e7",
   "metadata": {},
   "outputs": [],
   "source": [
    "df = pd.read_excel(r'C:\\Users\\LENOVO\\OneDrive\\Desktop\\raw1.xlsx')"
   ]
  },
  {
   "cell_type": "code",
   "execution_count": 9,
   "id": "c86ba0e2",
   "metadata": {},
   "outputs": [
    {
     "data": {
      "text/html": [
       "<div>\n",
       "<style scoped>\n",
       "    .dataframe tbody tr th:only-of-type {\n",
       "        vertical-align: middle;\n",
       "    }\n",
       "\n",
       "    .dataframe tbody tr th {\n",
       "        vertical-align: top;\n",
       "    }\n",
       "\n",
       "    .dataframe thead th {\n",
       "        text-align: right;\n",
       "    }\n",
       "</style>\n",
       "<table border=\"1\" class=\"dataframe\">\n",
       "  <thead>\n",
       "    <tr style=\"text-align: right;\">\n",
       "      <th></th>\n",
       "      <th>ADDRESS</th>\n",
       "      <th>date</th>\n",
       "      <th>time</th>\n",
       "    </tr>\n",
       "  </thead>\n",
       "  <tbody>\n",
       "    <tr>\n",
       "      <th>0</th>\n",
       "      <td>56th ben colony, btm layout, bangalore ,78909</td>\n",
       "      <td>2022-04-03</td>\n",
       "      <td>05:55:08</td>\n",
       "    </tr>\n",
       "    <tr>\n",
       "      <th>1</th>\n",
       "      <td>20th street, johns road,  banglore,567</td>\n",
       "      <td>2021-12-06</td>\n",
       "      <td>10:20:05</td>\n",
       "    </tr>\n",
       "  </tbody>\n",
       "</table>\n",
       "</div>"
      ],
      "text/plain": [
       "                                         ADDRESS       date      time\n",
       "0  56th ben colony, btm layout, bangalore ,78909 2022-04-03  05:55:08\n",
       "1         20th street, johns road,  banglore,567 2021-12-06  10:20:05"
      ]
     },
     "execution_count": 9,
     "metadata": {},
     "output_type": "execute_result"
    }
   ],
   "source": [
    "df"
   ]
  },
  {
   "cell_type": "code",
   "execution_count": 10,
   "id": "c62868e0",
   "metadata": {},
   "outputs": [],
   "source": [
    "df[['Houseno','Street','City','Zipcode']] = df['ADDRESS'].str.split(',',expand = True)"
   ]
  },
  {
   "cell_type": "code",
   "execution_count": 11,
   "id": "dcd1ee62",
   "metadata": {},
   "outputs": [],
   "source": [
    "df['date'] = df['date'].astype('str')  # we are using type conversion as 'astype()' for date and time\n",
    "df['time'] = df['time'].astype('str')\n"
   ]
  },
  {
   "cell_type": "code",
   "execution_count": 12,
   "id": "6bf0c5fc",
   "metadata": {},
   "outputs": [],
   "source": [
    "df[['Year','Month','Day']] = df['date'].str.split('-',expand = True)\n"
   ]
  },
  {
   "cell_type": "code",
   "execution_count": 13,
   "id": "1723423d",
   "metadata": {},
   "outputs": [],
   "source": [
    "df[['hr','min','sec']] = df['time'].str.split(':',expand = True)"
   ]
  },
  {
   "cell_type": "code",
   "execution_count": 14,
   "id": "f41e89e5",
   "metadata": {},
   "outputs": [
    {
     "data": {
      "text/html": [
       "<div>\n",
       "<style scoped>\n",
       "    .dataframe tbody tr th:only-of-type {\n",
       "        vertical-align: middle;\n",
       "    }\n",
       "\n",
       "    .dataframe tbody tr th {\n",
       "        vertical-align: top;\n",
       "    }\n",
       "\n",
       "    .dataframe thead th {\n",
       "        text-align: right;\n",
       "    }\n",
       "</style>\n",
       "<table border=\"1\" class=\"dataframe\">\n",
       "  <thead>\n",
       "    <tr style=\"text-align: right;\">\n",
       "      <th></th>\n",
       "      <th>ADDRESS</th>\n",
       "      <th>date</th>\n",
       "      <th>time</th>\n",
       "      <th>Houseno</th>\n",
       "      <th>Street</th>\n",
       "      <th>City</th>\n",
       "      <th>Zipcode</th>\n",
       "      <th>Year</th>\n",
       "      <th>Month</th>\n",
       "      <th>Day</th>\n",
       "      <th>hr</th>\n",
       "      <th>min</th>\n",
       "      <th>sec</th>\n",
       "    </tr>\n",
       "  </thead>\n",
       "  <tbody>\n",
       "    <tr>\n",
       "      <th>0</th>\n",
       "      <td>56th ben colony, btm layout, bangalore ,78909</td>\n",
       "      <td>2022-04-03</td>\n",
       "      <td>05:55:08</td>\n",
       "      <td>56th ben colony</td>\n",
       "      <td>btm layout</td>\n",
       "      <td>bangalore</td>\n",
       "      <td>78909</td>\n",
       "      <td>2022</td>\n",
       "      <td>04</td>\n",
       "      <td>03</td>\n",
       "      <td>05</td>\n",
       "      <td>55</td>\n",
       "      <td>08</td>\n",
       "    </tr>\n",
       "    <tr>\n",
       "      <th>1</th>\n",
       "      <td>20th street, johns road,  banglore,567</td>\n",
       "      <td>2021-12-06</td>\n",
       "      <td>10:20:05</td>\n",
       "      <td>20th street</td>\n",
       "      <td>johns road</td>\n",
       "      <td>banglore</td>\n",
       "      <td>567</td>\n",
       "      <td>2021</td>\n",
       "      <td>12</td>\n",
       "      <td>06</td>\n",
       "      <td>10</td>\n",
       "      <td>20</td>\n",
       "      <td>05</td>\n",
       "    </tr>\n",
       "  </tbody>\n",
       "</table>\n",
       "</div>"
      ],
      "text/plain": [
       "                                         ADDRESS        date      time  \\\n",
       "0  56th ben colony, btm layout, bangalore ,78909  2022-04-03  05:55:08   \n",
       "1         20th street, johns road,  banglore,567  2021-12-06  10:20:05   \n",
       "\n",
       "           Houseno       Street         City Zipcode  Year Month Day  hr min  \\\n",
       "0  56th ben colony   btm layout   bangalore    78909  2022    04  03  05  55   \n",
       "1      20th street   johns road     banglore     567  2021    12  06  10  20   \n",
       "\n",
       "  sec  \n",
       "0  08  \n",
       "1  05  "
      ]
     },
     "execution_count": 14,
     "metadata": {},
     "output_type": "execute_result"
    }
   ],
   "source": [
    "df"
   ]
  },
  {
   "cell_type": "code",
   "execution_count": null,
   "id": "bc096a2a",
   "metadata": {},
   "outputs": [],
   "source": []
  }
 ],
 "metadata": {
  "kernelspec": {
   "display_name": "Python 3 (ipykernel)",
   "language": "python",
   "name": "python3"
  },
  "language_info": {
   "codemirror_mode": {
    "name": "ipython",
    "version": 3
   },
   "file_extension": ".py",
   "mimetype": "text/x-python",
   "name": "python",
   "nbconvert_exporter": "python",
   "pygments_lexer": "ipython3",
   "version": "3.9.13"
  }
 },
 "nbformat": 4,
 "nbformat_minor": 5
}
