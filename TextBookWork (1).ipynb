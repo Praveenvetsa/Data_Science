{
 "cells": [
  {
   "cell_type": "markdown",
   "id": "024d8d3a",
   "metadata": {},
   "source": [
    "# LIST"
   ]
  },
  {
   "cell_type": "code",
   "execution_count": 1,
   "id": "541f5d32",
   "metadata": {},
   "outputs": [],
   "source": [
    "list1 = [] # empty list"
   ]
  },
  {
   "cell_type": "code",
   "execution_count": 2,
   "id": "249c325d",
   "metadata": {},
   "outputs": [
    {
     "name": "stdout",
     "output_type": "stream",
     "text": [
      "<class 'str'>\n"
     ]
    }
   ],
   "source": [
    "print(type('list1'))"
   ]
  },
  {
   "cell_type": "code",
   "execution_count": 3,
   "id": "b32dce75",
   "metadata": {},
   "outputs": [
    {
     "name": "stdout",
     "output_type": "stream",
     "text": [
      "[10, 30, 60]\n"
     ]
    },
    {
     "data": {
      "text/plain": [
       "list"
      ]
     },
     "execution_count": 3,
     "metadata": {},
     "output_type": "execute_result"
    }
   ],
   "source": [
    "list2 = [10,30,60] # list of integer numbers\n",
    "print(list2)\n",
    "type(list2)"
   ]
  },
  {
   "cell_type": "code",
   "execution_count": 4,
   "id": "9c7f230b",
   "metadata": {},
   "outputs": [
    {
     "name": "stdout",
     "output_type": "stream",
     "text": [
      "[10.7, 5.36, 45.8, 25.9]\n"
     ]
    },
    {
     "data": {
      "text/plain": [
       "list"
      ]
     },
     "execution_count": 4,
     "metadata": {},
     "output_type": "execute_result"
    }
   ],
   "source": [
    "list3 = [10.7,5.36,45.8,25.9] # list of float numbers\n",
    "print(list3)\n",
    "type(list3)"
   ]
  },
  {
   "cell_type": "code",
   "execution_count": 5,
   "id": "f8266a4e",
   "metadata": {},
   "outputs": [
    {
     "name": "stdout",
     "output_type": "stream",
     "text": [
      "['one', 'two', 'hello', 'hai']\n"
     ]
    },
    {
     "data": {
      "text/plain": [
       "list"
      ]
     },
     "execution_count": 5,
     "metadata": {},
     "output_type": "execute_result"
    }
   ],
   "source": [
    "list4 = ['one', 'two','hello', 'hai'] # lilst of strings\n",
    "print(list4)\n",
    "type(list4)"
   ]
  },
  {
   "cell_type": "code",
   "execution_count": 6,
   "id": "25310e06",
   "metadata": {},
   "outputs": [
    {
     "name": "stdout",
     "output_type": "stream",
     "text": [
      "['Praveen', 59, [45, 'hai'], [137, 78, 'apple']]\n"
     ]
    },
    {
     "data": {
      "text/plain": [
       "list"
      ]
     },
     "execution_count": 6,
     "metadata": {},
     "output_type": "execute_result"
    }
   ],
   "source": [
    "list5 = ['Praveen', 59,[45,'hai'],[137,78,'apple']] # nested lists\n",
    "print(list5)\n",
    "type(list5)"
   ]
  },
  {
   "cell_type": "code",
   "execution_count": 7,
   "id": "48543e7b",
   "metadata": {},
   "outputs": [
    {
     "data": {
      "text/plain": [
       "'r'"
      ]
     },
     "execution_count": 7,
     "metadata": {},
     "output_type": "execute_result"
    }
   ],
   "source": [
    "list5[0][1]"
   ]
  },
  {
   "cell_type": "code",
   "execution_count": 8,
   "id": "1052d7e1",
   "metadata": {},
   "outputs": [
    {
     "data": {
      "text/plain": [
       "'hai'"
      ]
     },
     "execution_count": 8,
     "metadata": {},
     "output_type": "execute_result"
    }
   ],
   "source": [
    "list5[2][1]"
   ]
  },
  {
   "cell_type": "code",
   "execution_count": 9,
   "id": "7a0eb202",
   "metadata": {},
   "outputs": [
    {
     "data": {
      "text/plain": [
       "'l'"
      ]
     },
     "execution_count": 9,
     "metadata": {},
     "output_type": "execute_result"
    }
   ],
   "source": [
    "list5[3][2][3]"
   ]
  },
  {
   "cell_type": "code",
   "execution_count": 10,
   "id": "e1777747",
   "metadata": {},
   "outputs": [
    {
     "data": {
      "text/plain": [
       "[100, 'Asif', 17.765]"
      ]
     },
     "execution_count": 10,
     "metadata": {},
     "output_type": "execute_result"
    }
   ],
   "source": [
    "list6 = [100, 'Asif',17.765] #list of mixed data types\n",
    "list6"
   ]
  },
  {
   "cell_type": "code",
   "execution_count": 11,
   "id": "852720e8",
   "metadata": {},
   "outputs": [
    {
     "data": {
      "text/plain": [
       "['sai', 56, [456, 'welcome'], [78, 67, 56.8], {568, 'hello'}]"
      ]
     },
     "execution_count": 11,
     "metadata": {},
     "output_type": "execute_result"
    }
   ],
   "source": [
    "list7 = ['sai', 56, [456,'welcome'],[78,67,56.8],{'hello',568}] \n",
    "list7"
   ]
  },
  {
   "cell_type": "code",
   "execution_count": 12,
   "id": "a0653d81",
   "metadata": {},
   "outputs": [
    {
     "data": {
      "text/plain": [
       "5"
      ]
     },
     "execution_count": 12,
     "metadata": {},
     "output_type": "execute_result"
    }
   ],
   "source": [
    "len(list7) # length of the list"
   ]
  },
  {
   "cell_type": "raw",
   "id": "8213ad00",
   "metadata": {},
   "source": [
    "LIST INDEXING"
   ]
  },
  {
   "cell_type": "code",
   "execution_count": 13,
   "id": "7c19caa0",
   "metadata": {},
   "outputs": [
    {
     "data": {
      "text/plain": [
       "[10, 30, 60]"
      ]
     },
     "execution_count": 13,
     "metadata": {},
     "output_type": "execute_result"
    }
   ],
   "source": [
    "list2"
   ]
  },
  {
   "cell_type": "code",
   "execution_count": 14,
   "id": "62392ee0",
   "metadata": {},
   "outputs": [
    {
     "data": {
      "text/plain": [
       "30"
      ]
     },
     "execution_count": 14,
     "metadata": {},
     "output_type": "execute_result"
    }
   ],
   "source": [
    "list2[1] # Retrive the second element of the list"
   ]
  },
  {
   "cell_type": "code",
   "execution_count": 15,
   "id": "69c29097",
   "metadata": {},
   "outputs": [
    {
     "data": {
      "text/plain": [
       "['yellow', 'two', 'hello', 'hai']"
      ]
     },
     "execution_count": 15,
     "metadata": {},
     "output_type": "execute_result"
    }
   ],
   "source": [
    "list4[0] = 'yellow'\n",
    "list4"
   ]
  },
  {
   "cell_type": "code",
   "execution_count": 16,
   "id": "4b7ff3f5",
   "metadata": {},
   "outputs": [
    {
     "data": {
      "text/plain": [
       "'hai'"
      ]
     },
     "execution_count": 16,
     "metadata": {},
     "output_type": "execute_result"
    }
   ],
   "source": [
    "list4[3] # retrive the fourth element of the list"
   ]
  },
  {
   "cell_type": "code",
   "execution_count": 17,
   "id": "1c156965",
   "metadata": {},
   "outputs": [
    {
     "data": {
      "text/plain": [
       "'y'"
      ]
     },
     "execution_count": 17,
     "metadata": {},
     "output_type": "execute_result"
    }
   ],
   "source": [
    "list4[0][0] # Nested listing - Access the first character of the first list "
   ]
  },
  {
   "cell_type": "code",
   "execution_count": 18,
   "id": "6204ef1b",
   "metadata": {},
   "outputs": [
    {
     "data": {
      "text/plain": [
       "'hai'"
      ]
     },
     "execution_count": 18,
     "metadata": {},
     "output_type": "execute_result"
    }
   ],
   "source": [
    "list4[-1] # last item of the list"
   ]
  },
  {
   "cell_type": "code",
   "execution_count": 19,
   "id": "b6509103",
   "metadata": {},
   "outputs": [
    {
     "name": "stdout",
     "output_type": "stream",
     "text": [
      "['Praveen', 59, [45, 'hai'], [137, 78, 'apple']]\n"
     ]
    },
    {
     "data": {
      "text/plain": [
       "[45, 'hai']"
      ]
     },
     "execution_count": 19,
     "metadata": {},
     "output_type": "execute_result"
    }
   ],
   "source": [
    "print(list5)\n",
    "list5[-2]"
   ]
  },
  {
   "cell_type": "markdown",
   "id": "a9c2c498",
   "metadata": {},
   "source": [
    "# LIST SLICING"
   ]
  },
  {
   "cell_type": "code",
   "execution_count": 20,
   "id": "3e21a828",
   "metadata": {},
   "outputs": [
    {
     "data": {
      "text/plain": [
       "['green', 'blue', 'orange', 'red', 'yellow', 'grey', 'gold', 'silver']"
      ]
     },
     "execution_count": 20,
     "metadata": {},
     "output_type": "execute_result"
    }
   ],
   "source": [
    "mylst = ['green','blue','orange','red','yellow','grey','gold','silver']\n",
    "mylst"
   ]
  },
  {
   "cell_type": "code",
   "execution_count": 21,
   "id": "d554edbb",
   "metadata": {},
   "outputs": [
    {
     "data": {
      "text/plain": [
       "['green', 'blue', 'orange']"
      ]
     },
     "execution_count": 21,
     "metadata": {},
     "output_type": "execute_result"
    }
   ],
   "source": [
    "mylst[0:3] # it returns all the elements from  0th index to 2nd index location"
   ]
  },
  {
   "cell_type": "code",
   "execution_count": 22,
   "id": "82746134",
   "metadata": {},
   "outputs": [
    {
     "data": {
      "text/plain": [
       "['orange', 'red', 'yellow']"
      ]
     },
     "execution_count": 22,
     "metadata": {},
     "output_type": "execute_result"
    }
   ],
   "source": [
    "mylst[2:5]"
   ]
  },
  {
   "cell_type": "code",
   "execution_count": 23,
   "id": "e7afc2ed",
   "metadata": {},
   "outputs": [
    {
     "data": {
      "text/plain": [
       "['green', 'blue', 'orange']"
      ]
     },
     "execution_count": 23,
     "metadata": {},
     "output_type": "execute_result"
    }
   ],
   "source": [
    "mylst[:3] # retuen first three 3 elements"
   ]
  },
  {
   "cell_type": "code",
   "execution_count": 24,
   "id": "0467f544",
   "metadata": {},
   "outputs": [
    {
     "data": {
      "text/plain": [
       "'grey'"
      ]
     },
     "execution_count": 24,
     "metadata": {},
     "output_type": "execute_result"
    }
   ],
   "source": [
    "mylst[-3]"
   ]
  },
  {
   "cell_type": "code",
   "execution_count": 25,
   "id": "e7427a5c",
   "metadata": {},
   "outputs": [
    {
     "data": {
      "text/plain": [
       "'silver'"
      ]
     },
     "execution_count": 25,
     "metadata": {},
     "output_type": "execute_result"
    }
   ],
   "source": [
    "mylst[-1]"
   ]
  },
  {
   "cell_type": "code",
   "execution_count": 26,
   "id": "ca4dc7a9",
   "metadata": {},
   "outputs": [
    {
     "data": {
      "text/plain": [
       "['green', 'blue']"
      ]
     },
     "execution_count": 26,
     "metadata": {},
     "output_type": "execute_result"
    }
   ],
   "source": [
    "mylst[:2]"
   ]
  },
  {
   "cell_type": "code",
   "execution_count": 27,
   "id": "94516eb4",
   "metadata": {},
   "outputs": [
    {
     "data": {
      "text/plain": [
       "['green', 'blue', 'orange']"
      ]
     },
     "execution_count": 27,
     "metadata": {},
     "output_type": "execute_result"
    }
   ],
   "source": [
    "mylst[:3]"
   ]
  },
  {
   "cell_type": "code",
   "execution_count": 28,
   "id": "c7c843f2",
   "metadata": {},
   "outputs": [
    {
     "data": {
      "text/plain": [
       "['grey', 'gold', 'silver']"
      ]
     },
     "execution_count": 28,
     "metadata": {},
     "output_type": "execute_result"
    }
   ],
   "source": [
    "mylst[-3:]"
   ]
  },
  {
   "cell_type": "code",
   "execution_count": 29,
   "id": "0cdcbafa",
   "metadata": {},
   "outputs": [
    {
     "data": {
      "text/plain": [
       "['gold', 'silver']"
      ]
     },
     "execution_count": 29,
     "metadata": {},
     "output_type": "execute_result"
    }
   ],
   "source": [
    "mylst[-2:]"
   ]
  },
  {
   "cell_type": "code",
   "execution_count": 30,
   "id": "89a689af",
   "metadata": {},
   "outputs": [
    {
     "data": {
      "text/plain": [
       "'red'"
      ]
     },
     "execution_count": 30,
     "metadata": {},
     "output_type": "execute_result"
    }
   ],
   "source": [
    "mylst[-5]"
   ]
  },
  {
   "cell_type": "code",
   "execution_count": 31,
   "id": "02549c91",
   "metadata": {},
   "outputs": [
    {
     "data": {
      "text/plain": [
       "['green', 'blue', 'orange', 'red', 'yellow', 'grey', 'gold', 'silver']"
      ]
     },
     "execution_count": 31,
     "metadata": {},
     "output_type": "execute_result"
    }
   ],
   "source": [
    "mylst[:]"
   ]
  },
  {
   "cell_type": "markdown",
   "id": "799fb191",
   "metadata": {},
   "source": [
    "## ADD, REMOVE & CHANGE ITEMS"
   ]
  },
  {
   "cell_type": "code",
   "execution_count": 32,
   "id": "42c57ccb",
   "metadata": {},
   "outputs": [
    {
     "data": {
      "text/plain": [
       "['green', 'blue', 'orange', 'red', 'yellow', 'grey', 'gold', 'silver']"
      ]
     },
     "execution_count": 32,
     "metadata": {},
     "output_type": "execute_result"
    }
   ],
   "source": [
    "mylst"
   ]
  },
  {
   "cell_type": "code",
   "execution_count": 33,
   "id": "27d6e955",
   "metadata": {},
   "outputs": [
    {
     "data": {
      "text/plain": [
       "['green', 'blue', 'orange', 'red', 'yellow', 'grey', 'gold', 'silver', 'white']"
      ]
     },
     "execution_count": 33,
     "metadata": {},
     "output_type": "execute_result"
    }
   ],
   "source": [
    "mylst.append('white') # adding an item at the end of the list\n",
    "mylst"
   ]
  },
  {
   "cell_type": "code",
   "execution_count": 34,
   "id": "3dd5cbd5",
   "metadata": {},
   "outputs": [
    {
     "data": {
      "text/plain": [
       "['green',\n",
       " 'blue',\n",
       " 'orange',\n",
       " 'red',\n",
       " 'yellow',\n",
       " 'grey',\n",
       " 'gold',\n",
       " 'silver',\n",
       " 'white',\n",
       " 'pink']"
      ]
     },
     "execution_count": 34,
     "metadata": {},
     "output_type": "execute_result"
    }
   ],
   "source": [
    "mylst.insert(10,'pink') # inserting an item at index position 10\n",
    "mylst"
   ]
  },
  {
   "cell_type": "code",
   "execution_count": 35,
   "id": "34b27c86",
   "metadata": {},
   "outputs": [
    {
     "data": {
      "text/plain": [
       "['green',\n",
       " 'one',\n",
       " 'blue',\n",
       " 'orange',\n",
       " 'red',\n",
       " 'yellow',\n",
       " 'grey',\n",
       " 'gold',\n",
       " 'silver',\n",
       " 'white',\n",
       " 'pink']"
      ]
     },
     "execution_count": 35,
     "metadata": {},
     "output_type": "execute_result"
    }
   ],
   "source": [
    "mylst.insert(1,'one')\n",
    "mylst"
   ]
  },
  {
   "cell_type": "code",
   "execution_count": 36,
   "id": "cbca6afd",
   "metadata": {},
   "outputs": [
    {
     "data": {
      "text/plain": [
       "['green',\n",
       " 'blue',\n",
       " 'orange',\n",
       " 'red',\n",
       " 'yellow',\n",
       " 'grey',\n",
       " 'gold',\n",
       " 'silver',\n",
       " 'white',\n",
       " 'pink']"
      ]
     },
     "execution_count": 36,
     "metadata": {},
     "output_type": "execute_result"
    }
   ],
   "source": [
    "mylst.remove('one') # remove an item\n",
    "mylst"
   ]
  },
  {
   "cell_type": "code",
   "execution_count": 37,
   "id": "03b45325",
   "metadata": {},
   "outputs": [
    {
     "data": {
      "text/plain": [
       "['green', 'blue', 'orange', 'red', 'yellow', 'grey', 'gold', 'silver', 'white']"
      ]
     },
     "execution_count": 37,
     "metadata": {},
     "output_type": "execute_result"
    }
   ],
   "source": [
    "mylst.pop() # remove the last element of the list\n",
    "mylst"
   ]
  },
  {
   "cell_type": "code",
   "execution_count": 38,
   "id": "6a712a51",
   "metadata": {},
   "outputs": [],
   "source": [
    "mylst.remove('white')"
   ]
  },
  {
   "cell_type": "code",
   "execution_count": 39,
   "id": "8df37512",
   "metadata": {},
   "outputs": [
    {
     "data": {
      "text/plain": [
       "['green', 'blue', 'orange', 'red', 'yellow', 'gold', 'silver']"
      ]
     },
     "execution_count": 39,
     "metadata": {},
     "output_type": "execute_result"
    }
   ],
   "source": [
    "mylst.remove('grey')\n",
    "mylst"
   ]
  },
  {
   "cell_type": "code",
   "execution_count": 40,
   "id": "8ac636d0",
   "metadata": {},
   "outputs": [
    {
     "ename": "IndexError",
     "evalue": "list assignment index out of range",
     "output_type": "error",
     "traceback": [
      "\u001b[1;31m---------------------------------------------------------------------------\u001b[0m",
      "\u001b[1;31mIndexError\u001b[0m                                Traceback (most recent call last)",
      "\u001b[1;32m~\\AppData\\Local\\Temp\\ipykernel_596\\3872924402.py\u001b[0m in \u001b[0;36m<module>\u001b[1;34m\u001b[0m\n\u001b[1;32m----> 1\u001b[1;33m \u001b[1;32mdel\u001b[0m \u001b[0mmylst\u001b[0m\u001b[1;33m[\u001b[0m\u001b[1;36m7\u001b[0m\u001b[1;33m]\u001b[0m \u001b[1;31m# remove the item at index location 9\u001b[0m\u001b[1;33m\u001b[0m\u001b[1;33m\u001b[0m\u001b[0m\n\u001b[0m\u001b[0;32m      2\u001b[0m \u001b[0mmylst\u001b[0m\u001b[1;33m\u001b[0m\u001b[1;33m\u001b[0m\u001b[0m\n",
      "\u001b[1;31mIndexError\u001b[0m: list assignment index out of range"
     ]
    }
   ],
   "source": [
    "del mylst[7] # remove the item at index location 9\n",
    "mylst"
   ]
  },
  {
   "cell_type": "code",
   "execution_count": null,
   "id": "99424296",
   "metadata": {},
   "outputs": [],
   "source": [
    "mylst\n",
    "len(mylst)"
   ]
  },
  {
   "cell_type": "code",
   "execution_count": null,
   "id": "05c38336",
   "metadata": {},
   "outputs": [],
   "source": [
    "mylst.pop(6)\n",
    "mylst"
   ]
  },
  {
   "cell_type": "code",
   "execution_count": null,
   "id": "b0a111c0",
   "metadata": {},
   "outputs": [],
   "source": [
    "# change value of the string\n",
    "mylst[0] = 1\n",
    "mylst[1] = 2\n",
    "mylst[2] = 3\n",
    "mylst"
   ]
  },
  {
   "cell_type": "code",
   "execution_count": null,
   "id": "fd227776",
   "metadata": {},
   "outputs": [],
   "source": [
    "mylst.clear()\n",
    "mylst"
   ]
  },
  {
   "cell_type": "code",
   "execution_count": null,
   "id": "4ccaabfa",
   "metadata": {},
   "outputs": [],
   "source": [
    "del mylst\n",
    "mylst"
   ]
  },
  {
   "cell_type": "markdown",
   "id": "f2dd0a1c",
   "metadata": {},
   "source": [
    "## COPY LIST"
   ]
  },
  {
   "cell_type": "code",
   "execution_count": null,
   "id": "9d0b5ffd",
   "metadata": {},
   "outputs": [],
   "source": [
    "mylist = ['one', 'two', 'three', 'four', 'five', 'six', 'seven', 'eight']\n",
    "mylist"
   ]
  },
  {
   "cell_type": "code",
   "execution_count": null,
   "id": "2bf4cc5b",
   "metadata": {},
   "outputs": [],
   "source": [
    "mylist1 = mylist "
   ]
  },
  {
   "cell_type": "code",
   "execution_count": null,
   "id": "f6a571e0",
   "metadata": {},
   "outputs": [],
   "source": [
    "id(mylist), id(mylist1)"
   ]
  },
  {
   "cell_type": "code",
   "execution_count": null,
   "id": "a7793ec6",
   "metadata": {},
   "outputs": [],
   "source": [
    "mylist2 = mylist.copy()"
   ]
  },
  {
   "cell_type": "code",
   "execution_count": null,
   "id": "e8b597a1",
   "metadata": {},
   "outputs": [],
   "source": [
    "id(mylist2)"
   ]
  },
  {
   "cell_type": "code",
   "execution_count": null,
   "id": "23766059",
   "metadata": {},
   "outputs": [],
   "source": [
    "mylist[0] = 1"
   ]
  },
  {
   "cell_type": "code",
   "execution_count": null,
   "id": "2cec8a5a",
   "metadata": {},
   "outputs": [],
   "source": [
    "mylist"
   ]
  },
  {
   "cell_type": "code",
   "execution_count": null,
   "id": "f9206bfe",
   "metadata": {},
   "outputs": [],
   "source": [
    "mylist2"
   ]
  },
  {
   "cell_type": "code",
   "execution_count": null,
   "id": "065eedfb",
   "metadata": {},
   "outputs": [],
   "source": [
    "list1"
   ]
  },
  {
   "cell_type": "code",
   "execution_count": null,
   "id": "38dd6ad4",
   "metadata": {},
   "outputs": [],
   "source": [
    "list1 = ['one', 'two', 'three', 'four']\n",
    "list2 = ['five', 'six', 'seven', 'eight']"
   ]
  },
  {
   "cell_type": "markdown",
   "id": "a51637b3",
   "metadata": {},
   "source": [
    "list3 = list1+list2\n",
    "list3"
   ]
  },
  {
   "cell_type": "code",
   "execution_count": null,
   "id": "32493288",
   "metadata": {},
   "outputs": [],
   "source": [
    "list1.extend(list2)\n",
    "list1"
   ]
  },
  {
   "cell_type": "markdown",
   "id": "dbe9e8b1",
   "metadata": {},
   "source": [
    "## LIST MEMBERSHIP"
   ]
  },
  {
   "cell_type": "code",
   "execution_count": null,
   "id": "b37f2be5",
   "metadata": {},
   "outputs": [],
   "source": [
    "list1"
   ]
  },
  {
   "cell_type": "code",
   "execution_count": null,
   "id": "c90c2699",
   "metadata": {},
   "outputs": [],
   "source": [
    "'one' in list1"
   ]
  },
  {
   "cell_type": "code",
   "execution_count": null,
   "id": "8b223181",
   "metadata": {},
   "outputs": [],
   "source": [
    "'ten' in list1"
   ]
  },
  {
   "cell_type": "markdown",
   "id": "bdcc17e6",
   "metadata": {},
   "source": [
    "## REVERSE AND SORT LIST"
   ]
  },
  {
   "cell_type": "code",
   "execution_count": null,
   "id": "56e0d783",
   "metadata": {},
   "outputs": [],
   "source": [
    "list1"
   ]
  },
  {
   "cell_type": "code",
   "execution_count": null,
   "id": "9b90a4d9",
   "metadata": {},
   "outputs": [],
   "source": [
    "list1.reverse()\n",
    "list1"
   ]
  },
  {
   "cell_type": "code",
   "execution_count": null,
   "id": "4d04fbd1",
   "metadata": {},
   "outputs": [],
   "source": [
    "list1 = list1[::-1]\n",
    "list1"
   ]
  },
  {
   "cell_type": "code",
   "execution_count": null,
   "id": "25f945e6",
   "metadata": {},
   "outputs": [],
   "source": [
    "mylist3 = [9,5,2,99,12,88.14]\n",
    "mylist3.sort()\n",
    "mylist3"
   ]
  },
  {
   "cell_type": "code",
   "execution_count": null,
   "id": "79c81b17",
   "metadata": {},
   "outputs": [],
   "source": [
    "mylist3\n",
    "mylist3.sort(reverse = True)\n",
    "mylist3"
   ]
  },
  {
   "cell_type": "code",
   "execution_count": null,
   "id": "80ec26e1",
   "metadata": {},
   "outputs": [],
   "source": [
    "mylist4 =[88,65,33,21,11,98]\n",
    "sorted(mylist4)"
   ]
  },
  {
   "cell_type": "code",
   "execution_count": null,
   "id": "7bca8560",
   "metadata": {},
   "outputs": [],
   "source": [
    "mylist4"
   ]
  },
  {
   "cell_type": "markdown",
   "id": "1fd4d47c",
   "metadata": {},
   "source": [
    "## LOOP THROUGH A LIST"
   ]
  },
  {
   "cell_type": "code",
   "execution_count": null,
   "id": "eddebb46",
   "metadata": {},
   "outputs": [],
   "source": [
    "list1"
   ]
  },
  {
   "cell_type": "code",
   "execution_count": null,
   "id": "32e6c332",
   "metadata": {},
   "outputs": [],
   "source": [
    "for i in list1:\n",
    "    print(i)"
   ]
  },
  {
   "cell_type": "code",
   "execution_count": null,
   "id": "d4097c8d",
   "metadata": {},
   "outputs": [],
   "source": [
    "for i in enumerate(list1):\n",
    "    print(i)"
   ]
  },
  {
   "cell_type": "code",
   "execution_count": null,
   "id": "b205851b",
   "metadata": {},
   "outputs": [],
   "source": [
    "list10 = ['one', 'two', 'three', 'four', 'one', 'one', 'three']"
   ]
  },
  {
   "cell_type": "code",
   "execution_count": null,
   "id": "177c8c31",
   "metadata": {},
   "outputs": [],
   "source": [
    " list10.count('one')"
   ]
  },
  {
   "cell_type": "code",
   "execution_count": null,
   "id": "e322bb42",
   "metadata": {},
   "outputs": [],
   "source": [
    "list10.count('two')"
   ]
  },
  {
   "cell_type": "markdown",
   "id": "5f3403df",
   "metadata": {},
   "source": [
    "##  ALL / ANY \n",
    " The all() method returns \n",
    " * True -> if all elements in a list are true\n",
    " * False -> if any element in a list is false\n",
    "The any() function returns True  if any element in the list is True. if not, any() returns False"
   ]
  },
  {
   "cell_type": "code",
   "execution_count": null,
   "id": "a0cd9775",
   "metadata": {},
   "outputs": [],
   "source": [
    "L1 = [1,2,3,4,0]\n",
    "L1"
   ]
  },
  {
   "cell_type": "raw",
   "id": "16d06d63",
   "metadata": {},
   "source": [
    "*The function all() in Python is used to determine if all elements in an iterable are true. It returns True if all elements are true or if the iterable is empty. If any element is false, it returns False.\n",
    "                                          (or)\n",
    "*it checks whether all elements in the iterable are true or not. In Python, non-zero numbers are considered truthy, while the number 0 is considered falsy."
   ]
  },
  {
   "cell_type": "code",
   "execution_count": null,
   "id": "e3f7fa0a",
   "metadata": {},
   "outputs": [],
   "source": [
    "all(L1)"
   ]
  },
  {
   "cell_type": "raw",
   "id": "844731ea",
   "metadata": {},
   "source": [
    "The any() function in Python is used to determine if at least one element in an iterable is true. It returns True if any element is true, and False if all elements are false or if the iterable is empty."
   ]
  },
  {
   "cell_type": "code",
   "execution_count": null,
   "id": "174047dc",
   "metadata": {},
   "outputs": [],
   "source": [
    "any(L1)"
   ]
  },
  {
   "cell_type": "code",
   "execution_count": null,
   "id": "cf2db29e",
   "metadata": {},
   "outputs": [],
   "source": [
    "L2 = [1,2,3,4,True,False]"
   ]
  },
  {
   "cell_type": "code",
   "execution_count": null,
   "id": "0c67511e",
   "metadata": {},
   "outputs": [],
   "source": [
    "all(L2)"
   ]
  },
  {
   "cell_type": "code",
   "execution_count": null,
   "id": "5ec90eea",
   "metadata": {},
   "outputs": [],
   "source": [
    "any(L2)"
   ]
  },
  {
   "cell_type": "code",
   "execution_count": null,
   "id": "4913d3b2",
   "metadata": {},
   "outputs": [],
   "source": [
    "L3 = [1,2,3,True]"
   ]
  },
  {
   "cell_type": "code",
   "execution_count": null,
   "id": "6e3d43e7",
   "metadata": {},
   "outputs": [],
   "source": [
    "all(L3)"
   ]
  },
  {
   "cell_type": "code",
   "execution_count": null,
   "id": "15bb7d4b",
   "metadata": {},
   "outputs": [],
   "source": [
    "any(L3)"
   ]
  },
  {
   "cell_type": "markdown",
   "id": "3e331590",
   "metadata": {},
   "source": [
    "# List Comparisions"
   ]
  },
  {
   "cell_type": "raw",
   "id": "26221a32",
   "metadata": {},
   "source": [
    "LIST COMPREHENSIONS \n",
    "  *  LIST COMPREHENSIONS PROVIDE AN ELEGANT WAY TO CREATE NEW LISTS.\n",
    "  *  IF CONSISTS OF BRACKETS CONTAINING AN EXPRESSION FOLLOWED BY A FOR CLAUSE, THEN ZERO "
   ]
  },
  {
   "cell_type": "code",
   "execution_count": null,
   "id": "1166f504",
   "metadata": {},
   "outputs": [],
   "source": [
    "mystr = 'welcome'\n",
    "myst = [i for i in mystr]  \n",
    "myst"
   ]
  },
  {
   "cell_type": "code",
   "execution_count": null,
   "id": "9234abdb",
   "metadata": {},
   "outputs": [],
   "source": [
    "mylst = [i for i in range(40) if i % 2 == 0]\n",
    "mylst"
   ]
  },
  {
   "cell_type": "code",
   "execution_count": null,
   "id": "33092d9b",
   "metadata": {},
   "outputs": [],
   "source": [
    "mylst = [i for i in range(40) if i% 2 == 1]\n",
    "mylst"
   ]
  },
  {
   "cell_type": "raw",
   "id": "5fc714ea",
   "metadata": {},
   "source": [
    "[expression for item in list] == [num**2 for num in range(10)]"
   ]
  },
  {
   "cell_type": "code",
   "execution_count": null,
   "id": "0b559668",
   "metadata": {},
   "outputs": [],
   "source": [
    "mylst2 = [num**2 for num in range(10)]\n",
    "mylst2"
   ]
  },
  {
   "cell_type": "code",
   "execution_count": null,
   "id": "3470fcce",
   "metadata": {},
   "outputs": [],
   "source": [
    "#multiple whole list by 10\n",
    "lst = [2,3,4,5,8]\n",
    "lst2 = [i*10 for i in lst]\n",
    "lst2"
   ]
  },
  {
   "cell_type": "code",
   "execution_count": null,
   "id": "2011d560",
   "metadata": {},
   "outputs": [],
   "source": [
    "# list all numbers divisible by 3,9,12 using nested if with list\n",
    "myla = [i for i in range(200) if i % 3 == 0 if i % 9 == 0 if i% 12 ==0 ]"
   ]
  },
  {
   "cell_type": "code",
   "execution_count": null,
   "id": "bec5bdae",
   "metadata": {},
   "outputs": [],
   "source": [
    "myla"
   ]
  },
  {
   "cell_type": "code",
   "execution_count": null,
   "id": "62392c91",
   "metadata": {},
   "outputs": [],
   "source": [
    "L1"
   ]
  },
  {
   "cell_type": "code",
   "execution_count": null,
   "id": "b385f7c4",
   "metadata": {},
   "outputs": [],
   "source": [
    "myst"
   ]
  },
  {
   "cell_type": "code",
   "execution_count": null,
   "id": "e3c32fcb",
   "metadata": {},
   "outputs": [],
   "source": [
    "mystr"
   ]
  },
  {
   "cell_type": "code",
   "execution_count": null,
   "id": "c0f1bc92",
   "metadata": {},
   "outputs": [],
   "source": [
    "myst"
   ]
  },
  {
   "cell_type": "code",
   "execution_count": null,
   "id": "44a259c3",
   "metadata": {},
   "outputs": [],
   "source": [
    "a = [5,6,7,81,'hai',(1+2j)]\n",
    "a"
   ]
  },
  {
   "cell_type": "code",
   "execution_count": null,
   "id": "d8e43853",
   "metadata": {},
   "outputs": [],
   "source": [
    "a1 = a.copy()"
   ]
  },
  {
   "cell_type": "code",
   "execution_count": null,
   "id": "332055f1",
   "metadata": {},
   "outputs": [],
   "source": [
    "a1"
   ]
  },
  {
   "cell_type": "code",
   "execution_count": null,
   "id": "4c2893da",
   "metadata": {},
   "outputs": [],
   "source": [
    "id(a)"
   ]
  },
  {
   "cell_type": "code",
   "execution_count": null,
   "id": "9a444c26",
   "metadata": {},
   "outputs": [],
   "source": [
    "id(a1)"
   ]
  },
  {
   "cell_type": "code",
   "execution_count": null,
   "id": "f8dbe131",
   "metadata": {},
   "outputs": [],
   "source": [
    "z = {5, 6, 7, 81, 'hai', (1+2j)}\n",
    "z"
   ]
  },
  {
   "cell_type": "code",
   "execution_count": null,
   "id": "8e269597",
   "metadata": {},
   "outputs": [],
   "source": [
    "z1 = z.copy()"
   ]
  },
  {
   "cell_type": "code",
   "execution_count": null,
   "id": "10d6ed33",
   "metadata": {},
   "outputs": [],
   "source": [
    "z1"
   ]
  },
  {
   "cell_type": "code",
   "execution_count": null,
   "id": "66aa3d3f",
   "metadata": {},
   "outputs": [],
   "source": [
    "id(z)"
   ]
  },
  {
   "cell_type": "code",
   "execution_count": null,
   "id": "9c1586cb",
   "metadata": {},
   "outputs": [],
   "source": [
    "id(z1)"
   ]
  },
  {
   "cell_type": "code",
   "execution_count": null,
   "id": "39e81144",
   "metadata": {},
   "outputs": [],
   "source": [
    "z2 = z"
   ]
  },
  {
   "cell_type": "code",
   "execution_count": null,
   "id": "5cfa553e",
   "metadata": {},
   "outputs": [],
   "source": [
    "z2"
   ]
  },
  {
   "cell_type": "code",
   "execution_count": null,
   "id": "e8f02c59",
   "metadata": {},
   "outputs": [],
   "source": [
    "id(z2)"
   ]
  },
  {
   "cell_type": "code",
   "execution_count": null,
   "id": "63cf2b35",
   "metadata": {},
   "outputs": [],
   "source": [
    "id(z) is id(z2)"
   ]
  },
  {
   "cell_type": "code",
   "execution_count": null,
   "id": "48b1a5fa",
   "metadata": {
    "scrolled": true
   },
   "outputs": [],
   "source": [
    "id(z) is not id(z2)"
   ]
  },
  {
   "cell_type": "raw",
   "id": "d1209930",
   "metadata": {},
   "source": [
    "# Extract numbers from a string\n"
   ]
  },
  {
   "cell_type": "code",
   "execution_count": null,
   "id": "9f8fc2e4",
   "metadata": {},
   "outputs": [],
   "source": [
    "mys = 'one 1 two 2 three 3 four 4 five 5 six 678 '"
   ]
  },
  {
   "cell_type": "code",
   "execution_count": null,
   "id": "81952430",
   "metadata": {},
   "outputs": [],
   "source": [
    "n = [i for i in mys if i.isdigit()]"
   ]
  },
  {
   "cell_type": "code",
   "execution_count": null,
   "id": "a6d0c9f0",
   "metadata": {},
   "outputs": [],
   "source": [
    "n"
   ]
  },
  {
   "cell_type": "code",
   "execution_count": null,
   "id": "4bb14362",
   "metadata": {},
   "outputs": [],
   "source": [
    "ml = 'hai goodni8 4 five 5 nine 9 '"
   ]
  },
  {
   "cell_type": "code",
   "execution_count": null,
   "id": "a981da78",
   "metadata": {},
   "outputs": [],
   "source": [
    "ml1 = [i for i in ml if i.isdigit()]\n",
    "ml1"
   ]
  },
  {
   "cell_type": "raw",
   "id": "6b7e9ad0",
   "metadata": {},
   "source": [
    "# Extract letters from a string"
   ]
  },
  {
   "cell_type": "code",
   "execution_count": null,
   "id": "49a359bc",
   "metadata": {},
   "outputs": [],
   "source": [
    "ml2 = [i for i in ml if i.isalpha()]\n",
    "print(ml2,end = ' ')"
   ]
  },
  {
   "cell_type": "markdown",
   "id": "75e69df1",
   "metadata": {},
   "source": [
    "# TUPLES"
   ]
  },
  {
   "cell_type": "code",
   "execution_count": null,
   "id": "685ab846",
   "metadata": {},
   "outputs": [],
   "source": [
    "t1 = () # empty tuple"
   ]
  },
  {
   "cell_type": "code",
   "execution_count": null,
   "id": "b3bb886c",
   "metadata": {},
   "outputs": [],
   "source": [
    "t2 = (10,20,98) # tuple of integers\n",
    "t2"
   ]
  },
  {
   "cell_type": "code",
   "execution_count": null,
   "id": "02f6e1d7",
   "metadata": {},
   "outputs": [],
   "source": [
    "t3 = (3.6,5.2,8.9) # tuple of float numbers\n",
    "t3"
   ]
  },
  {
   "cell_type": "code",
   "execution_count": null,
   "id": "2b4ab592",
   "metadata": {},
   "outputs": [],
   "source": [
    "t4 = ('hai','hello','three') # tuple of stringd\n",
    "t4"
   ]
  },
  {
   "cell_type": "code",
   "execution_count": null,
   "id": "71cad119",
   "metadata": {},
   "outputs": [],
   "source": [
    "t5 = ('Asif',5,6,7,(10+7j)) # tuple of mixed datatypes\n",
    "t5"
   ]
  },
  {
   "cell_type": "code",
   "execution_count": null,
   "id": "3c5ef539",
   "metadata": {},
   "outputs": [],
   "source": [
    "t6 = ('Asif',5,6,(6,9),[89,9,10,'hai']) # nested tuples\n",
    "t6"
   ]
  },
  {
   "cell_type": "code",
   "execution_count": null,
   "id": "ed15b2af",
   "metadata": {},
   "outputs": [],
   "source": [
    "len(t6)"
   ]
  },
  {
   "cell_type": "code",
   "execution_count": null,
   "id": "9ce32528",
   "metadata": {},
   "outputs": [],
   "source": [
    "t2"
   ]
  },
  {
   "cell_type": "code",
   "execution_count": null,
   "id": "5be19efe",
   "metadata": {},
   "outputs": [],
   "source": [
    "#TUPLE INDEXING\n",
    "t2[0]"
   ]
  },
  {
   "cell_type": "code",
   "execution_count": null,
   "id": "3a2733e2",
   "metadata": {},
   "outputs": [],
   "source": [
    "t2[2]"
   ]
  },
  {
   "cell_type": "code",
   "execution_count": null,
   "id": "ddec40ca",
   "metadata": {},
   "outputs": [],
   "source": [
    "t6[0][0]"
   ]
  },
  {
   "cell_type": "code",
   "execution_count": null,
   "id": "da09bcaa",
   "metadata": {},
   "outputs": [],
   "source": [
    "t6[4][3]"
   ]
  },
  {
   "cell_type": "code",
   "execution_count": null,
   "id": "5a18d7e7",
   "metadata": {},
   "outputs": [],
   "source": [
    "t6[4][3][2]"
   ]
  },
  {
   "cell_type": "markdown",
   "id": "bc849342",
   "metadata": {},
   "source": [
    "# TUPLE SLICING"
   ]
  },
  {
   "cell_type": "code",
   "execution_count": null,
   "id": "345d1a2d",
   "metadata": {},
   "outputs": [],
   "source": [
    "t6"
   ]
  },
  {
   "cell_type": "code",
   "execution_count": null,
   "id": "84590ea0",
   "metadata": {},
   "outputs": [],
   "source": [
    "t6[1:4]"
   ]
  },
  {
   "cell_type": "code",
   "execution_count": null,
   "id": "10fb3187",
   "metadata": {},
   "outputs": [],
   "source": [
    "t6[::-1]"
   ]
  },
  {
   "cell_type": "code",
   "execution_count": null,
   "id": "37a981ad",
   "metadata": {},
   "outputs": [],
   "source": [
    "t6[::-1]"
   ]
  },
  {
   "cell_type": "code",
   "execution_count": null,
   "id": "21f0e253",
   "metadata": {},
   "outputs": [],
   "source": [
    "z = t6\n",
    "z[::-1]\n",
    "z"
   ]
  },
  {
   "cell_type": "code",
   "execution_count": null,
   "id": "ec20fcf8",
   "metadata": {},
   "outputs": [],
   "source": [
    "z[::-2]"
   ]
  },
  {
   "cell_type": "code",
   "execution_count": null,
   "id": "5d4fa281",
   "metadata": {},
   "outputs": [],
   "source": [
    "z[:-3]"
   ]
  },
  {
   "cell_type": "code",
   "execution_count": null,
   "id": "6d4f58af",
   "metadata": {},
   "outputs": [],
   "source": [
    "z[-3:]  # when we use -3 it prints the -3,-2,-1 values"
   ]
  },
  {
   "cell_type": "code",
   "execution_count": null,
   "id": "94a97c44",
   "metadata": {},
   "outputs": [],
   "source": [
    "t6[:]"
   ]
  },
  {
   "cell_type": "raw",
   "id": "6c2606c1",
   "metadata": {},
   "source": [
    "REMOVE AND CHANGE ITEMS"
   ]
  },
  {
   "cell_type": "code",
   "execution_count": 41,
   "id": "70de0246",
   "metadata": {},
   "outputs": [
    {
     "ename": "NameError",
     "evalue": "name 't2' is not defined",
     "output_type": "error",
     "traceback": [
      "\u001b[1;31m---------------------------------------------------------------------------\u001b[0m",
      "\u001b[1;31mNameError\u001b[0m                                 Traceback (most recent call last)",
      "\u001b[1;32m~\\AppData\\Local\\Temp\\ipykernel_596\\2995953478.py\u001b[0m in \u001b[0;36m<module>\u001b[1;34m\u001b[0m\n\u001b[1;32m----> 1\u001b[1;33m \u001b[0mt2\u001b[0m\u001b[1;33m\u001b[0m\u001b[1;33m\u001b[0m\u001b[0m\n\u001b[0m",
      "\u001b[1;31mNameError\u001b[0m: name 't2' is not defined"
     ]
    }
   ],
   "source": [
    "t2"
   ]
  },
  {
   "cell_type": "code",
   "execution_count": null,
   "id": "419f868f",
   "metadata": {},
   "outputs": [],
   "source": [
    "t6"
   ]
  },
  {
   "cell_type": "code",
   "execution_count": null,
   "id": "c30bb4f6",
   "metadata": {},
   "outputs": [],
   "source": [
    "del t2[0]  # tuple item does not support the item deletion"
   ]
  },
  {
   "cell_type": "code",
   "execution_count": null,
   "id": "f692f441",
   "metadata": {},
   "outputs": [],
   "source": [
    "t2"
   ]
  },
  {
   "cell_type": "code",
   "execution_count": null,
   "id": "8ee30022",
   "metadata": {},
   "outputs": [],
   "source": [
    "del t2"
   ]
  },
  {
   "cell_type": "code",
   "execution_count": null,
   "id": "66511ebf",
   "metadata": {},
   "outputs": [],
   "source": [
    "t2"
   ]
  },
  {
   "cell_type": "markdown",
   "id": "89d1274a",
   "metadata": {},
   "source": [
    "# LOOP THROUGH A TUPLE"
   ]
  },
  {
   "cell_type": "code",
   "execution_count": null,
   "id": "e2426b68",
   "metadata": {},
   "outputs": [],
   "source": [
    "t6"
   ]
  },
  {
   "cell_type": "code",
   "execution_count": null,
   "id": "ba51e101",
   "metadata": {},
   "outputs": [],
   "source": [
    "for i in t6:\n",
    "    print(i)"
   ]
  },
  {
   "cell_type": "raw",
   "id": "f9dab286",
   "metadata": {},
   "source": [
    "COUNT"
   ]
  },
  {
   "cell_type": "code",
   "execution_count": 42,
   "id": "ddb58d84",
   "metadata": {},
   "outputs": [
    {
     "data": {
      "text/plain": [
       "('one', 'two', 'one', 'three', 'four', 'five', 'six', 'two')"
      ]
     },
     "execution_count": 42,
     "metadata": {},
     "output_type": "execute_result"
    }
   ],
   "source": [
    "t7 = ('one','two','one','three','four','five','six','two')\n",
    "t7"
   ]
  },
  {
   "cell_type": "code",
   "execution_count": 43,
   "id": "30e175f7",
   "metadata": {},
   "outputs": [
    {
     "data": {
      "text/plain": [
       "2"
      ]
     },
     "execution_count": 43,
     "metadata": {},
     "output_type": "execute_result"
    }
   ],
   "source": [
    "t7.count('one')"
   ]
  },
  {
   "cell_type": "raw",
   "id": "165aded1",
   "metadata": {},
   "source": [
    "TUPLE MEMBERSHIP"
   ]
  },
  {
   "cell_type": "code",
   "execution_count": 44,
   "id": "f273cdff",
   "metadata": {},
   "outputs": [
    {
     "data": {
      "text/plain": [
       "True"
      ]
     },
     "execution_count": 44,
     "metadata": {},
     "output_type": "execute_result"
    }
   ],
   "source": [
    "'two' in t7"
   ]
  },
  {
   "cell_type": "code",
   "execution_count": 45,
   "id": "6418d9a0",
   "metadata": {},
   "outputs": [
    {
     "name": "stdout",
     "output_type": "stream",
     "text": [
      "three is in the tuple\n"
     ]
    }
   ],
   "source": [
    "if 'three' in t7:\n",
    "    print(\"three is in the tuple\")\n",
    "else:\n",
    "    print(\"three is not in the tuple\")"
   ]
  },
  {
   "cell_type": "code",
   "execution_count": 46,
   "id": "5a9d5e36",
   "metadata": {},
   "outputs": [
    {
     "data": {
      "text/plain": [
       "('one', 'two', 'one', 'three', 'four', 'five', 'six', 'two')"
      ]
     },
     "execution_count": 46,
     "metadata": {},
     "output_type": "execute_result"
    }
   ],
   "source": [
    "t7"
   ]
  },
  {
   "cell_type": "code",
   "execution_count": 47,
   "id": "acd4d42a",
   "metadata": {},
   "outputs": [
    {
     "data": {
      "text/plain": [
       "0"
      ]
     },
     "execution_count": 47,
     "metadata": {},
     "output_type": "execute_result"
    }
   ],
   "source": [
    "t7.index('one')"
   ]
  },
  {
   "cell_type": "code",
   "execution_count": 48,
   "id": "d4e40a37",
   "metadata": {},
   "outputs": [],
   "source": [
    "t8 = (89,5,78,4,8,2,1,6,8,5)"
   ]
  },
  {
   "cell_type": "code",
   "execution_count": 49,
   "id": "aabad08c",
   "metadata": {},
   "outputs": [
    {
     "data": {
      "text/plain": [
       "[1, 2, 4, 5, 5, 6, 8, 8, 78, 89]"
      ]
     },
     "execution_count": 49,
     "metadata": {},
     "output_type": "execute_result"
    }
   ],
   "source": [
    "sorted(t8)"
   ]
  },
  {
   "cell_type": "code",
   "execution_count": 50,
   "id": "036a60df",
   "metadata": {},
   "outputs": [
    {
     "data": {
      "text/plain": [
       "[89, 78, 8, 8, 6, 5, 5, 4, 2, 1]"
      ]
     },
     "execution_count": 50,
     "metadata": {},
     "output_type": "execute_result"
    }
   ],
   "source": [
    "sorted(t8,reverse=True)"
   ]
  },
  {
   "cell_type": "markdown",
   "id": "768c5210",
   "metadata": {},
   "source": [
    "# set"
   ]
  },
  {
   "cell_type": "code",
   "execution_count": 51,
   "id": "366145e3",
   "metadata": {},
   "outputs": [],
   "source": [
    "st = {} # empty set"
   ]
  },
  {
   "cell_type": "code",
   "execution_count": 52,
   "id": "ea1a28cf",
   "metadata": {},
   "outputs": [
    {
     "data": {
      "text/plain": [
       "{1, 2, 4, 5, 7, 9}"
      ]
     },
     "execution_count": 52,
     "metadata": {},
     "output_type": "execute_result"
    }
   ],
   "source": [
    "st1 = {1,2,4,5,7,9} # set of integers\n",
    "st1"
   ]
  },
  {
   "cell_type": "code",
   "execution_count": 53,
   "id": "754327c3",
   "metadata": {},
   "outputs": [
    {
     "data": {
      "text/plain": [
       "6"
      ]
     },
     "execution_count": 53,
     "metadata": {},
     "output_type": "execute_result"
    }
   ],
   "source": [
    "len(st1)"
   ]
  },
  {
   "cell_type": "code",
   "execution_count": 54,
   "id": "f02922c9",
   "metadata": {},
   "outputs": [
    {
     "data": {
      "text/plain": [
       "{42.3, 52.6, 78.3, 82.5}"
      ]
     },
     "execution_count": 54,
     "metadata": {},
     "output_type": "execute_result"
    }
   ],
   "source": [
    "st2 = {52.6,82.5,42.3,78.3}\n",
    "st2"
   ]
  },
  {
   "cell_type": "code",
   "execution_count": 55,
   "id": "23842619",
   "metadata": {},
   "outputs": [
    {
     "name": "stdout",
     "output_type": "stream",
     "text": [
      "82.5\n",
      "52.6\n",
      "42.3\n",
      "78.3\n"
     ]
    }
   ],
   "source": [
    "for i in st2:\n",
    "    print(i)"
   ]
  },
  {
   "cell_type": "code",
   "execution_count": 56,
   "id": "41a7f9cd",
   "metadata": {},
   "outputs": [
    {
     "name": "stdout",
     "output_type": "stream",
     "text": [
      "(0, 82.5)\n",
      "(1, 52.6)\n",
      "(2, 42.3)\n",
      "(3, 78.3)\n"
     ]
    }
   ],
   "source": [
    "for i in enumerate(st2):\n",
    "    print(i)"
   ]
  },
  {
   "cell_type": "code",
   "execution_count": 57,
   "id": "7dbbeed3",
   "metadata": {},
   "outputs": [
    {
     "data": {
      "text/plain": [
       "True"
      ]
     },
     "execution_count": 57,
     "metadata": {},
     "output_type": "execute_result"
    }
   ],
   "source": [
    "82.5 in st2"
   ]
  },
  {
   "cell_type": "code",
   "execution_count": 58,
   "id": "4e401e79",
   "metadata": {},
   "outputs": [
    {
     "data": {
      "text/plain": [
       "28"
      ]
     },
     "execution_count": 58,
     "metadata": {},
     "output_type": "execute_result"
    }
   ],
   "source": [
    "sum(st1)"
   ]
  },
  {
   "cell_type": "code",
   "execution_count": 59,
   "id": "0fe748df",
   "metadata": {},
   "outputs": [
    {
     "data": {
      "text/plain": [
       "{1, 2, 4, 5, 7, 9}"
      ]
     },
     "execution_count": 59,
     "metadata": {},
     "output_type": "execute_result"
    }
   ],
   "source": [
    "st1"
   ]
  },
  {
   "cell_type": "code",
   "execution_count": 60,
   "id": "66e4d0db",
   "metadata": {},
   "outputs": [
    {
     "data": {
      "text/plain": [
       "9"
      ]
     },
     "execution_count": 60,
     "metadata": {},
     "output_type": "execute_result"
    }
   ],
   "source": [
    "max(st1)"
   ]
  },
  {
   "cell_type": "code",
   "execution_count": 61,
   "id": "6fe9089f",
   "metadata": {},
   "outputs": [
    {
     "data": {
      "text/plain": [
       "1"
      ]
     },
     "execution_count": 61,
     "metadata": {},
     "output_type": "execute_result"
    }
   ],
   "source": [
    "min(st1)"
   ]
  },
  {
   "cell_type": "code",
   "execution_count": 64,
   "id": "824898e2",
   "metadata": {},
   "outputs": [
    {
     "data": {
      "text/plain": [
       "str"
      ]
     },
     "execution_count": 64,
     "metadata": {},
     "output_type": "execute_result"
    }
   ],
   "source": [
    "st1.add(55)\n",
    "str"
   ]
  },
  {
   "cell_type": "code",
   "execution_count": 65,
   "id": "61a9f034",
   "metadata": {},
   "outputs": [
    {
     "data": {
      "text/plain": [
       "{1, 2, 4, 5, 7, 9, 55}"
      ]
     },
     "execution_count": 65,
     "metadata": {},
     "output_type": "execute_result"
    }
   ],
   "source": [
    "s = st1.copy()\n",
    "s"
   ]
  },
  {
   "cell_type": "code",
   "execution_count": 66,
   "id": "b350ff57",
   "metadata": {},
   "outputs": [
    {
     "data": {
      "text/plain": [
       "set()"
      ]
     },
     "execution_count": 66,
     "metadata": {},
     "output_type": "execute_result"
    }
   ],
   "source": [
    "s.clear()\n",
    "s"
   ]
  },
  {
   "cell_type": "code",
   "execution_count": 70,
   "id": "bc5acdaf",
   "metadata": {},
   "outputs": [
    {
     "data": {
      "text/plain": [
       "{1, 2, 4, 5, 7, 9, 55}"
      ]
     },
     "execution_count": 70,
     "metadata": {},
     "output_type": "execute_result"
    }
   ],
   "source": [
    "st1.difference(st)"
   ]
  },
  {
   "cell_type": "code",
   "execution_count": 74,
   "id": "5cfc9e7a",
   "metadata": {},
   "outputs": [
    {
     "data": {
      "text/plain": [
       "{1, 52.369, 56, 78, 'hai'}"
      ]
     },
     "execution_count": 74,
     "metadata": {},
     "output_type": "execute_result"
    }
   ],
   "source": [
    "st = {78,56,'hai',56,52.369,1}\n",
    "st"
   ]
  },
  {
   "cell_type": "code",
   "execution_count": 75,
   "id": "500d2278",
   "metadata": {},
   "outputs": [
    {
     "data": {
      "text/plain": [
       "{2, 4, 5, 7, 9, 55}"
      ]
     },
     "execution_count": 75,
     "metadata": {},
     "output_type": "execute_result"
    }
   ],
   "source": [
    "st1.difference(st)"
   ]
  },
  {
   "cell_type": "code",
   "execution_count": 76,
   "id": "7f69884a",
   "metadata": {},
   "outputs": [
    {
     "data": {
      "text/plain": [
       "{52.369, 56, 78, 'hai'}"
      ]
     },
     "execution_count": 76,
     "metadata": {},
     "output_type": "execute_result"
    }
   ],
   "source": [
    "st.difference(st1)"
   ]
  },
  {
   "cell_type": "code",
   "execution_count": 86,
   "id": "50cee9fe",
   "metadata": {},
   "outputs": [],
   "source": [
    "st.symmetric_difference_update(st1)"
   ]
  },
  {
   "cell_type": "code",
   "execution_count": 87,
   "id": "dc318389",
   "metadata": {},
   "outputs": [
    {
     "data": {
      "text/plain": [
       "{1, 2, 4, 5, 52.369, 55, 56, 7, 78, 9, 'hai'}"
      ]
     },
     "execution_count": 87,
     "metadata": {},
     "output_type": "execute_result"
    }
   ],
   "source": [
    "st"
   ]
  },
  {
   "cell_type": "code",
   "execution_count": 88,
   "id": "8ba4e542",
   "metadata": {},
   "outputs": [
    {
     "data": {
      "text/plain": [
       "{1, 2, 4, 5, 52.369, 55, 56, 7, 78, 9, 'hai'}"
      ]
     },
     "execution_count": 88,
     "metadata": {},
     "output_type": "execute_result"
    }
   ],
   "source": [
    "st"
   ]
  },
  {
   "cell_type": "code",
   "execution_count": 89,
   "id": "79c0be54",
   "metadata": {},
   "outputs": [
    {
     "data": {
      "text/plain": [
       "{1, 2, 4, 5, 7, 9, 55}"
      ]
     },
     "execution_count": 89,
     "metadata": {},
     "output_type": "execute_result"
    }
   ],
   "source": [
    "st1"
   ]
  },
  {
   "cell_type": "code",
   "execution_count": 90,
   "id": "c51b6229",
   "metadata": {},
   "outputs": [
    {
     "data": {
      "text/plain": [
       "2296203024640"
      ]
     },
     "execution_count": 90,
     "metadata": {},
     "output_type": "execute_result"
    }
   ],
   "source": [
    "id(st)"
   ]
  },
  {
   "cell_type": "code",
   "execution_count": 91,
   "id": "864f9644",
   "metadata": {},
   "outputs": [
    {
     "data": {
      "text/plain": [
       "2296165817024"
      ]
     },
     "execution_count": 91,
     "metadata": {},
     "output_type": "execute_result"
    }
   ],
   "source": [
    "id(st1)"
   ]
  },
  {
   "cell_type": "code",
   "execution_count": 92,
   "id": "a3537c24",
   "metadata": {},
   "outputs": [
    {
     "data": {
      "text/plain": [
       "{1, 2, 4, 5, 52.369, 55, 56, 7, 78, 9, 'hai'}"
      ]
     },
     "execution_count": 92,
     "metadata": {},
     "output_type": "execute_result"
    }
   ],
   "source": [
    "st | st1"
   ]
  },
  {
   "cell_type": "code",
   "execution_count": 93,
   "id": "667a5807",
   "metadata": {},
   "outputs": [
    {
     "data": {
      "text/plain": [
       "{1, 2, 4, 5, 7, 9, 55}"
      ]
     },
     "execution_count": 93,
     "metadata": {},
     "output_type": "execute_result"
    }
   ],
   "source": [
    "st & st1"
   ]
  },
  {
   "cell_type": "code",
   "execution_count": 98,
   "id": "98f608a0",
   "metadata": {},
   "outputs": [],
   "source": [
    "st.update([55,46,89])"
   ]
  },
  {
   "cell_type": "code",
   "execution_count": 100,
   "id": "1dc6188e",
   "metadata": {},
   "outputs": [
    {
     "data": {
      "text/plain": [
       "{1, 2, 4, 46, 5, 52.369, 55, 56, 7, 78, 89, 9, 'hai'}"
      ]
     },
     "execution_count": 100,
     "metadata": {},
     "output_type": "execute_result"
    }
   ],
   "source": [
    "st"
   ]
  },
  {
   "cell_type": "code",
   "execution_count": 101,
   "id": "33ffa2bb",
   "metadata": {},
   "outputs": [
    {
     "data": {
      "text/plain": [
       "{46, 52.369, 56, 78, 89, 'hai'}"
      ]
     },
     "execution_count": 101,
     "metadata": {},
     "output_type": "execute_result"
    }
   ],
   "source": [
    "st - st1"
   ]
  },
  {
   "cell_type": "code",
   "execution_count": 102,
   "id": "2bda25b4",
   "metadata": {},
   "outputs": [
    {
     "data": {
      "text/plain": [
       "set()"
      ]
     },
     "execution_count": 102,
     "metadata": {},
     "output_type": "execute_result"
    }
   ],
   "source": [
    "st1 - st"
   ]
  },
  {
   "cell_type": "markdown",
   "id": "8ebd377a",
   "metadata": {},
   "source": [
    "# DICTIONARY"
   ]
  },
  {
   "cell_type": "code",
   "execution_count": 103,
   "id": "43d169e4",
   "metadata": {},
   "outputs": [
    {
     "data": {
      "text/plain": [
       "{}"
      ]
     },
     "execution_count": 103,
     "metadata": {},
     "output_type": "execute_result"
    }
   ],
   "source": [
    "dt = {} # empty dictionary\n",
    "dt"
   ]
  },
  {
   "cell_type": "code",
   "execution_count": 104,
   "id": "88eed1d1",
   "metadata": {},
   "outputs": [
    {
     "data": {
      "text/plain": [
       "{1: 'one', 2: 'two', 3: 'three', 4: 'four'}"
      ]
     },
     "execution_count": 104,
     "metadata": {},
     "output_type": "execute_result"
    }
   ],
   "source": [
    "dt = {1:'one',2:'two',3:'three',4:'four'} # dictionary with integer keys\n",
    "dt"
   ]
  },
  {
   "cell_type": "code",
   "execution_count": 106,
   "id": "2769992e",
   "metadata": {},
   "outputs": [
    {
     "data": {
      "text/plain": [
       "{'a': 'one', 'b': 'two', 'c': 'three', 'd': 'four'}"
      ]
     },
     "execution_count": 106,
     "metadata": {},
     "output_type": "execute_result"
    }
   ],
   "source": [
    "dt1 = {'a':'one','b':'two',\"c\":\"three\",'d':\"four\"} # dictionary with character keys\n",
    "dt1"
   ]
  },
  {
   "cell_type": "code",
   "execution_count": 107,
   "id": "8f9a8abe",
   "metadata": {},
   "outputs": [
    {
     "data": {
      "text/plain": [
       "{1: 'a', 'ab': 'abc', 3: 'three'}"
      ]
     },
     "execution_count": 107,
     "metadata": {},
     "output_type": "execute_result"
    }
   ],
   "source": [
    "dt2 = {1:'a','ab':'abc',3:'three'} # dicitionary with mixed keys\n",
    "dt2"
   ]
  },
  {
   "cell_type": "code",
   "execution_count": 108,
   "id": "3f8586d1",
   "metadata": {},
   "outputs": [
    {
     "data": {
      "text/plain": [
       "dict_keys([1, 'ab', 3])"
      ]
     },
     "execution_count": 108,
     "metadata": {},
     "output_type": "execute_result"
    }
   ],
   "source": [
    "dt2.keys()"
   ]
  },
  {
   "cell_type": "code",
   "execution_count": 109,
   "id": "5c303de0",
   "metadata": {},
   "outputs": [
    {
     "data": {
      "text/plain": [
       "dict_values(['a', 'abc', 'three'])"
      ]
     },
     "execution_count": 109,
     "metadata": {},
     "output_type": "execute_result"
    }
   ],
   "source": [
    "dt2.values()"
   ]
  },
  {
   "cell_type": "code",
   "execution_count": 110,
   "id": "a5108e78",
   "metadata": {},
   "outputs": [
    {
     "data": {
      "text/plain": [
       "dict_items([(1, 'a'), ('ab', 'abc'), (3, 'three')])"
      ]
     },
     "execution_count": 110,
     "metadata": {},
     "output_type": "execute_result"
    }
   ],
   "source": [
    "dt2.items()"
   ]
  },
  {
   "cell_type": "code",
   "execution_count": 116,
   "id": "bc599e65",
   "metadata": {},
   "outputs": [
    {
     "data": {
      "text/plain": [
       "{1: 'one', 2: 'two', 'A': {'Name': 'asif', 'Age': 20}, 'B': {'Bat', 'cat'}}"
      ]
     },
     "execution_count": 116,
     "metadata": {},
     "output_type": "execute_result"
    }
   ],
   "source": [
    "mydict = {1:'one' , 2:'two' , 'A':{'Name':'asif' , 'Age' :20}, 'B':{'Bat' , 'cat'}}\n",
    "mydict"
   ]
  },
  {
   "cell_type": "code",
   "execution_count": 117,
   "id": "e5a7dc86",
   "metadata": {},
   "outputs": [],
   "source": [
    "mydict1 = {1:'one' , 2:'two' , 'A':{'asif',20}}"
   ]
  },
  {
   "cell_type": "code",
   "execution_count": 118,
   "id": "9a770236",
   "metadata": {},
   "outputs": [
    {
     "data": {
      "text/plain": [
       "{1: 'one', 2: 'two', 'A': {20, 'asif'}}"
      ]
     },
     "execution_count": 118,
     "metadata": {},
     "output_type": "execute_result"
    }
   ],
   "source": [
    "mydict1"
   ]
  },
  {
   "cell_type": "code",
   "execution_count": 124,
   "id": "0fa6c622",
   "metadata": {},
   "outputs": [
    {
     "data": {
      "text/plain": [
       "{'d': None, 'b': None, 'a': None, 'c': None}"
      ]
     },
     "execution_count": 124,
     "metadata": {},
     "output_type": "execute_result"
    }
   ],
   "source": [
    "keys  = {'a','b','c','d'} # create a dictionary from a sequence of keys\n",
    "mydict2 = dict.fromkeys(keys)\n",
    "mydict2"
   ]
  },
  {
   "cell_type": "code",
   "execution_count": 125,
   "id": "2edc83c4",
   "metadata": {},
   "outputs": [
    {
     "data": {
      "text/plain": [
       "{'d': 10, 'b': 10, 'a': 10, 'c': 10}"
      ]
     },
     "execution_count": 125,
     "metadata": {},
     "output_type": "execute_result"
    }
   ],
   "source": [
    "keys  = {'a','b','c','d'}\n",
    "values = 10\n",
    "mydict3 = dict.fromkeys(keys,values)\n",
    "mydict3"
   ]
  },
  {
   "cell_type": "code",
   "execution_count": 127,
   "id": "55cdd52a",
   "metadata": {},
   "outputs": [
    {
     "data": {
      "text/plain": [
       "{'d': [10, 20, 30], 'b': [10, 20, 30], 'a': [10, 20, 30], 'c': [10, 20, 30]}"
      ]
     },
     "execution_count": 127,
     "metadata": {},
     "output_type": "execute_result"
    }
   ],
   "source": [
    "keys = {'a' , 'b' , 'c' , 'd'}\n",
    "value = [10,20,30]\n",
    "mydict4 = dict.fromkeys(keys , value) # Create a dictionary from a sequence of keys from a list\n",
    "mydict4\n"
   ]
  },
  {
   "cell_type": "code",
   "execution_count": 128,
   "id": "c31e4022",
   "metadata": {},
   "outputs": [
    {
     "data": {
      "text/plain": [
       "{'d': [10, 20, 30, 40],\n",
       " 'b': [10, 20, 30, 40],\n",
       " 'a': [10, 20, 30, 40],\n",
       " 'c': [10, 20, 30, 40]}"
      ]
     },
     "execution_count": 128,
     "metadata": {},
     "output_type": "execute_result"
    }
   ],
   "source": [
    "value.append(40)\n",
    "mydict4"
   ]
  },
  {
   "cell_type": "raw",
   "id": "1958eee4",
   "metadata": {},
   "source": [
    "ACCESSING ITEMS"
   ]
  },
  {
   "cell_type": "code",
   "execution_count": 129,
   "id": "970aada7",
   "metadata": {},
   "outputs": [
    {
     "data": {
      "text/plain": [
       "{1: 'one', 2: 'two'}"
      ]
     },
     "execution_count": 129,
     "metadata": {},
     "output_type": "execute_result"
    }
   ],
   "source": [
    "mydt = {1:'one',2:'two'}\n",
    "mydt"
   ]
  },
  {
   "cell_type": "code",
   "execution_count": 130,
   "id": "6bd718cd",
   "metadata": {},
   "outputs": [
    {
     "data": {
      "text/plain": [
       "'one'"
      ]
     },
     "execution_count": 130,
     "metadata": {},
     "output_type": "execute_result"
    }
   ],
   "source": [
    "mydt[1] # access item using keys"
   ]
  },
  {
   "cell_type": "code",
   "execution_count": 131,
   "id": "5408b89c",
   "metadata": {},
   "outputs": [
    {
     "data": {
      "text/plain": [
       "'one'"
      ]
     },
     "execution_count": 131,
     "metadata": {},
     "output_type": "execute_result"
    }
   ],
   "source": [
    "mydt.get(1) # access item using get() method"
   ]
  },
  {
   "cell_type": "code",
   "execution_count": 135,
   "id": "6fd1bbd3",
   "metadata": {},
   "outputs": [
    {
     "data": {
      "text/plain": [
       "{'Name': 'Asif', 'ID': 74123, 'DOB': 1991, 'job': 'Analyst'}"
      ]
     },
     "execution_count": 135,
     "metadata": {},
     "output_type": "execute_result"
    }
   ],
   "source": [
    "mydict1 = {'Name':'Asif' , 'ID': 74123 , 'DOB': 1991 , 'job' :'Analyst'}\n",
    "mydict1"
   ]
  },
  {
   "cell_type": "code",
   "execution_count": 136,
   "id": "577a1726",
   "metadata": {},
   "outputs": [
    {
     "data": {
      "text/plain": [
       "dict_keys(['Name', 'ID', 'DOB', 'job'])"
      ]
     },
     "execution_count": 136,
     "metadata": {},
     "output_type": "execute_result"
    }
   ],
   "source": [
    "mydict1.keys()"
   ]
  },
  {
   "cell_type": "code",
   "execution_count": 137,
   "id": "da19bb36",
   "metadata": {},
   "outputs": [
    {
     "data": {
      "text/plain": [
       "dict_values(['Asif', 74123, 1991, 'Analyst'])"
      ]
     },
     "execution_count": 137,
     "metadata": {},
     "output_type": "execute_result"
    }
   ],
   "source": [
    "mydict1.values()"
   ]
  },
  {
   "cell_type": "code",
   "execution_count": 138,
   "id": "1ab0b2a5",
   "metadata": {},
   "outputs": [
    {
     "data": {
      "text/plain": [
       "dict_items([('Name', 'Asif'), ('ID', 74123), ('DOB', 1991), ('job', 'Analyst')])"
      ]
     },
     "execution_count": 138,
     "metadata": {},
     "output_type": "execute_result"
    }
   ],
   "source": [
    "mydict1.items()"
   ]
  },
  {
   "cell_type": "code",
   "execution_count": 140,
   "id": "7dea132b",
   "metadata": {},
   "outputs": [
    {
     "data": {
      "text/plain": [
       "'Asif'"
      ]
     },
     "execution_count": 140,
     "metadata": {},
     "output_type": "execute_result"
    }
   ],
   "source": [
    "mydict1['Name']"
   ]
  },
  {
   "cell_type": "code",
   "execution_count": 141,
   "id": "cc8b607c",
   "metadata": {},
   "outputs": [
    {
     "data": {
      "text/plain": [
       "'Analyst'"
      ]
     },
     "execution_count": 141,
     "metadata": {},
     "output_type": "execute_result"
    }
   ],
   "source": [
    "mydict1.get('job')"
   ]
  },
  {
   "cell_type": "code",
   "execution_count": 142,
   "id": "4273281b",
   "metadata": {},
   "outputs": [
    {
     "data": {
      "text/plain": [
       "{1: 'one', 2: 'two'}"
      ]
     },
     "execution_count": 142,
     "metadata": {},
     "output_type": "execute_result"
    }
   ],
   "source": [
    "mydt"
   ]
  },
  {
   "cell_type": "code",
   "execution_count": 144,
   "id": "121b09c1",
   "metadata": {},
   "outputs": [
    {
     "data": {
      "text/plain": [
       "'two'"
      ]
     },
     "execution_count": 144,
     "metadata": {},
     "output_type": "execute_result"
    }
   ],
   "source": [
    "mydt.pop(2)"
   ]
  },
  {
   "cell_type": "code",
   "execution_count": 145,
   "id": "91041f20",
   "metadata": {},
   "outputs": [
    {
     "data": {
      "text/plain": [
       "{1: 'one'}"
      ]
     },
     "execution_count": 145,
     "metadata": {},
     "output_type": "execute_result"
    }
   ],
   "source": [
    "mydt"
   ]
  },
  {
   "cell_type": "markdown",
   "id": "c0804367",
   "metadata": {},
   "source": [
    "# ADD REMOVE AND CHANGE ITEMS"
   ]
  },
  {
   "cell_type": "code",
   "execution_count": 147,
   "id": "30ff38ba",
   "metadata": {},
   "outputs": [
    {
     "data": {
      "text/plain": [
       "{'Name': 'Asif', 'ID': 74123, 'DOB': 1991, 'job': 'Analyst'}"
      ]
     },
     "execution_count": 147,
     "metadata": {},
     "output_type": "execute_result"
    }
   ],
   "source": [
    "mydict1"
   ]
  },
  {
   "cell_type": "code",
   "execution_count": 148,
   "id": "876cc2c5",
   "metadata": {},
   "outputs": [
    {
     "data": {
      "text/plain": [
       "{'Name': 'Asif',\n",
       " 'ID': 74123,\n",
       " 'DOB': 2002,\n",
       " 'job': 'Analyst',\n",
       " 'Address': 'Delhi'}"
      ]
     },
     "execution_count": 148,
     "metadata": {},
     "output_type": "execute_result"
    }
   ],
   "source": [
    "mydict1['DOB'] = 2002\n",
    "mydict1['Address'] = 'Delhi'\n",
    "mydict1"
   ]
  },
  {
   "cell_type": "code",
   "execution_count": 149,
   "id": "0fe7f7e1",
   "metadata": {},
   "outputs": [
    {
     "data": {
      "text/plain": [
       "{'Name': 'Asif',\n",
       " 'ID': 74123,\n",
       " 'DOB': 2001,\n",
       " 'job': 'Analyst',\n",
       " 'Address': 'Delhi'}"
      ]
     },
     "execution_count": 149,
     "metadata": {},
     "output_type": "execute_result"
    }
   ],
   "source": [
    "dict1 = {'DOB':2001}\n",
    "mydict1.update(dict1)\n",
    "mydict1"
   ]
  },
  {
   "cell_type": "code",
   "execution_count": 150,
   "id": "66f1b5d8",
   "metadata": {},
   "outputs": [
    {
     "data": {
      "text/plain": [
       "'Analyst'"
      ]
     },
     "execution_count": 150,
     "metadata": {},
     "output_type": "execute_result"
    }
   ],
   "source": [
    "mydict1.pop('job')"
   ]
  },
  {
   "cell_type": "code",
   "execution_count": 151,
   "id": "59d5f6ba",
   "metadata": {},
   "outputs": [
    {
     "data": {
      "text/plain": [
       "('Address', 'Delhi')"
      ]
     },
     "execution_count": 151,
     "metadata": {},
     "output_type": "execute_result"
    }
   ],
   "source": [
    "mydict1.popitem()"
   ]
  },
  {
   "cell_type": "code",
   "execution_count": 152,
   "id": "3d3e1b3f",
   "metadata": {},
   "outputs": [],
   "source": [
    "del[mydict1['ID']]"
   ]
  },
  {
   "cell_type": "code",
   "execution_count": 153,
   "id": "64127820",
   "metadata": {},
   "outputs": [
    {
     "data": {
      "text/plain": [
       "{'Name': 'Asif', 'DOB': 2001}"
      ]
     },
     "execution_count": 153,
     "metadata": {},
     "output_type": "execute_result"
    }
   ],
   "source": [
    "mydict1"
   ]
  },
  {
   "cell_type": "code",
   "execution_count": 154,
   "id": "0061df32",
   "metadata": {},
   "outputs": [
    {
     "data": {
      "text/plain": [
       "{}"
      ]
     },
     "execution_count": 154,
     "metadata": {},
     "output_type": "execute_result"
    }
   ],
   "source": [
    "mydict1.clear()\n",
    "mydict1"
   ]
  },
  {
   "cell_type": "code",
   "execution_count": 155,
   "id": "172933bc",
   "metadata": {},
   "outputs": [
    {
     "data": {
      "text/plain": [
       "{1: 'one', 2: 'two', 'A': {'Name': 'asif', 'Age': 20}, 'B': {'Bat', 'cat'}}"
      ]
     },
     "execution_count": 155,
     "metadata": {},
     "output_type": "execute_result"
    }
   ],
   "source": [
    "mydict"
   ]
  },
  {
   "cell_type": "code",
   "execution_count": 156,
   "id": "e8cc4144",
   "metadata": {},
   "outputs": [],
   "source": [
    "mydict1 = mydict"
   ]
  },
  {
   "cell_type": "code",
   "execution_count": 157,
   "id": "34559d1a",
   "metadata": {},
   "outputs": [
    {
     "data": {
      "text/plain": [
       "(2296200041152, 2296200041152)"
      ]
     },
     "execution_count": 157,
     "metadata": {},
     "output_type": "execute_result"
    }
   ],
   "source": [
    "id(mydict1), id(mydict)"
   ]
  },
  {
   "cell_type": "code",
   "execution_count": 158,
   "id": "882332a2",
   "metadata": {},
   "outputs": [],
   "source": [
    "mydict2 = mydict.copy()"
   ]
  },
  {
   "cell_type": "code",
   "execution_count": 159,
   "id": "72c02657",
   "metadata": {},
   "outputs": [
    {
     "data": {
      "text/plain": [
       "2296200097920"
      ]
     },
     "execution_count": 159,
     "metadata": {},
     "output_type": "execute_result"
    }
   ],
   "source": [
    "id(mydict2)"
   ]
  },
  {
   "cell_type": "code",
   "execution_count": 160,
   "id": "cc4a2169",
   "metadata": {},
   "outputs": [],
   "source": [
    "mydict['Address'] = 'hyd'"
   ]
  },
  {
   "cell_type": "code",
   "execution_count": 161,
   "id": "fd69af7e",
   "metadata": {},
   "outputs": [
    {
     "data": {
      "text/plain": [
       "{1: 'one',\n",
       " 2: 'two',\n",
       " 'A': {'Name': 'asif', 'Age': 20},\n",
       " 'B': {'Bat', 'cat'},\n",
       " 'Address': 'hyd'}"
      ]
     },
     "execution_count": 161,
     "metadata": {},
     "output_type": "execute_result"
    }
   ],
   "source": [
    "mydict"
   ]
  },
  {
   "cell_type": "code",
   "execution_count": 162,
   "id": "b12f9be8",
   "metadata": {},
   "outputs": [
    {
     "name": "stdout",
     "output_type": "stream",
     "text": [
      "1 : one\n",
      "2 : two\n",
      "A : {'Name': 'asif', 'Age': 20}\n",
      "B : {'Bat', 'cat'}\n",
      "Address : hyd\n"
     ]
    }
   ],
   "source": [
    "for i  in mydict1:\n",
    "    print(i, ':', mydict[i])"
   ]
  },
  {
   "cell_type": "code",
   "execution_count": 163,
   "id": "ab627e39",
   "metadata": {},
   "outputs": [
    {
     "data": {
      "text/plain": [
       "False"
      ]
     },
     "execution_count": 163,
     "metadata": {},
     "output_type": "execute_result"
    }
   ],
   "source": [
    "'Name' in mydict1"
   ]
  },
  {
   "cell_type": "code",
   "execution_count": 165,
   "id": "3adb8312",
   "metadata": {},
   "outputs": [
    {
     "data": {
      "text/plain": [
       "False"
      ]
     },
     "execution_count": 165,
     "metadata": {},
     "output_type": "execute_result"
    }
   ],
   "source": [
    "'Name' in mydt"
   ]
  },
  {
   "cell_type": "code",
   "execution_count": 166,
   "id": "11066cfa",
   "metadata": {},
   "outputs": [
    {
     "data": {
      "text/plain": [
       "{1: 'one'}"
      ]
     },
     "execution_count": 166,
     "metadata": {},
     "output_type": "execute_result"
    }
   ],
   "source": [
    "mydt"
   ]
  },
  {
   "cell_type": "code",
   "execution_count": 167,
   "id": "439b2c23",
   "metadata": {},
   "outputs": [
    {
     "data": {
      "text/plain": [
       "{1: 'one',\n",
       " 2: 'two',\n",
       " 'A': {'Name': 'asif', 'Age': 20},\n",
       " 'B': {'Bat', 'cat'},\n",
       " 'Address': 'hyd'}"
      ]
     },
     "execution_count": 167,
     "metadata": {},
     "output_type": "execute_result"
    }
   ],
   "source": [
    "mydict1"
   ]
  },
  {
   "cell_type": "code",
   "execution_count": 168,
   "id": "5b4e8b16",
   "metadata": {},
   "outputs": [
    {
     "data": {
      "text/plain": [
       "{1: 'one', 2: 'two', 'A': {'Name': 'asif', 'Age': 20}, 'B': {'Bat', 'cat'}}"
      ]
     },
     "execution_count": 168,
     "metadata": {},
     "output_type": "execute_result"
    }
   ],
   "source": [
    "mydict2"
   ]
  },
  {
   "cell_type": "code",
   "execution_count": 169,
   "id": "9198280f",
   "metadata": {},
   "outputs": [
    {
     "data": {
      "text/plain": [
       "True"
      ]
     },
     "execution_count": 169,
     "metadata": {},
     "output_type": "execute_result"
    }
   ],
   "source": [
    "'Address' in mydict1"
   ]
  },
  {
   "cell_type": "code",
   "execution_count": 170,
   "id": "a670f27f",
   "metadata": {},
   "outputs": [
    {
     "data": {
      "text/plain": [
       "True"
      ]
     },
     "execution_count": 170,
     "metadata": {},
     "output_type": "execute_result"
    }
   ],
   "source": [
    "all(mydict1)"
   ]
  },
  {
   "cell_type": "code",
   "execution_count": 171,
   "id": "6f59d282",
   "metadata": {},
   "outputs": [
    {
     "data": {
      "text/plain": [
       "True"
      ]
     },
     "execution_count": 171,
     "metadata": {},
     "output_type": "execute_result"
    }
   ],
   "source": [
    "any(mydict1)"
   ]
  },
  {
   "cell_type": "code",
   "execution_count": 172,
   "id": "59b0b5c1",
   "metadata": {},
   "outputs": [
    {
     "data": {
      "text/plain": [
       "{1: 'one',\n",
       " 2: 'two',\n",
       " 'A': {'Name': 'asif', 'Age': 20},\n",
       " 'B': {'Bat', 'cat'},\n",
       " 'Address': 'hyd',\n",
       " 0: 'test1'}"
      ]
     },
     "execution_count": 172,
     "metadata": {},
     "output_type": "execute_result"
    }
   ],
   "source": [
    "mydict1[0] = 'test1'\n",
    "mydict1"
   ]
  },
  {
   "cell_type": "code",
   "execution_count": 173,
   "id": "28e3718d",
   "metadata": {},
   "outputs": [
    {
     "data": {
      "text/plain": [
       "False"
      ]
     },
     "execution_count": 173,
     "metadata": {},
     "output_type": "execute_result"
    }
   ],
   "source": [
    "all(mydict1)"
   ]
  },
  {
   "cell_type": "code",
   "execution_count": 174,
   "id": "e8e0b7de",
   "metadata": {},
   "outputs": [
    {
     "data": {
      "text/plain": [
       "True"
      ]
     },
     "execution_count": 174,
     "metadata": {},
     "output_type": "execute_result"
    }
   ],
   "source": [
    "any(mydict1)"
   ]
  },
  {
   "cell_type": "code",
   "execution_count": 175,
   "id": "bba238f8",
   "metadata": {},
   "outputs": [],
   "source": [
    "db  = {i:i*2 for i in range(10)}  # double of each value using dict"
   ]
  },
  {
   "cell_type": "code",
   "execution_count": 176,
   "id": "8c98c894",
   "metadata": {},
   "outputs": [
    {
     "data": {
      "text/plain": [
       "{0: 0, 1: 2, 2: 4, 3: 6, 4: 8, 5: 10, 6: 12, 7: 14, 8: 16, 9: 18}"
      ]
     },
     "execution_count": 176,
     "metadata": {},
     "output_type": "execute_result"
    }
   ],
   "source": [
    "db"
   ]
  },
  {
   "cell_type": "code",
   "execution_count": 177,
   "id": "6090e72d",
   "metadata": {},
   "outputs": [
    {
     "data": {
      "text/plain": [
       "{0: 0, 1: 1, 2: 4, 3: 9, 4: 16, 5: 25, 6: 36, 7: 49, 8: 64, 9: 81}"
      ]
     },
     "execution_count": 177,
     "metadata": {},
     "output_type": "execute_result"
    }
   ],
   "source": [
    "db1 = {i:i**2 for i in range(10)} #square of each value using dict\n",
    "db1"
   ]
  },
  {
   "cell_type": "code",
   "execution_count": 178,
   "id": "6cfdfb31",
   "metadata": {},
   "outputs": [
    {
     "data": {
      "text/plain": [
       "{'one': 1, 'two': 2, 'three': 3, 'four': 4, 'five': 5}"
      ]
     },
     "execution_count": 178,
     "metadata": {},
     "output_type": "execute_result"
    }
   ],
   "source": [
    "key = ['one','two','three','four','five']\n",
    "value = [1,2,3,4,5] # using dict comprehension\n",
    "mydict = {k:v for (k,v) in zip(key,value)}\n",
    "mydict"
   ]
  },
  {
   "cell_type": "code",
   "execution_count": 179,
   "id": "dcf4c7ab",
   "metadata": {},
   "outputs": [],
   "source": [
    "str1  = 'VETSA NAGA VENKATA PRAVEEN'"
   ]
  },
  {
   "cell_type": "code",
   "execution_count": 180,
   "id": "89f86a34",
   "metadata": {},
   "outputs": [
    {
     "data": {
      "text/plain": [
       "{0: 'V',\n",
       " 1: 'E',\n",
       " 2: 'T',\n",
       " 3: 'S',\n",
       " 4: 'A',\n",
       " 5: ' ',\n",
       " 6: 'N',\n",
       " 7: 'A',\n",
       " 8: 'G',\n",
       " 9: 'A',\n",
       " 10: ' ',\n",
       " 11: 'V',\n",
       " 12: 'E',\n",
       " 13: 'N',\n",
       " 14: 'K',\n",
       " 15: 'A',\n",
       " 16: 'T',\n",
       " 17: 'A',\n",
       " 18: ' ',\n",
       " 19: 'P',\n",
       " 20: 'R',\n",
       " 21: 'A',\n",
       " 22: 'V',\n",
       " 23: 'E',\n",
       " 24: 'E',\n",
       " 25: 'N'}"
      ]
     },
     "execution_count": 180,
     "metadata": {},
     "output_type": "execute_result"
    }
   ],
   "source": [
    "mydict5 = {k:v for (k,v) in enumerate(str1)}\n",
    "mydict5"
   ]
  },
  {
   "cell_type": "code",
   "execution_count": 181,
   "id": "3ecfe8b6",
   "metadata": {},
   "outputs": [],
   "source": [
    "mystr = 'one two three four one two three five six seven eight'"
   ]
  },
  {
   "cell_type": "code",
   "execution_count": 182,
   "id": "72fa6912",
   "metadata": {},
   "outputs": [
    {
     "data": {
      "text/plain": [
       "'one two three four one two three five six seven eight'"
      ]
     },
     "execution_count": 182,
     "metadata": {},
     "output_type": "execute_result"
    }
   ],
   "source": [
    "mystr"
   ]
  },
  {
   "cell_type": "code",
   "execution_count": 183,
   "id": "bc1d45c5",
   "metadata": {},
   "outputs": [
    {
     "data": {
      "text/plain": [
       "['one',\n",
       " 'two',\n",
       " 'three',\n",
       " 'four',\n",
       " 'one',\n",
       " 'two',\n",
       " 'three',\n",
       " 'five',\n",
       " 'six',\n",
       " 'seven',\n",
       " 'eight']"
      ]
     },
     "execution_count": 183,
     "metadata": {},
     "output_type": "execute_result"
    }
   ],
   "source": [
    "mylist = mystr.split()\n",
    "mylist"
   ]
  },
  {
   "cell_type": "code",
   "execution_count": 184,
   "id": "fce509a8",
   "metadata": {},
   "outputs": [
    {
     "data": {
      "text/plain": [
       "['two', 'five', 'seven', 'six', 'eight', 'three', 'four', 'one']"
      ]
     },
     "execution_count": 184,
     "metadata": {},
     "output_type": "execute_result"
    }
   ],
   "source": [
    "mylist1 = set(mylist) # Unique values in a list\n",
    "mylist1 = list (mylist1)\n",
    "mylist1\n"
   ]
  },
  {
   "cell_type": "code",
   "execution_count": null,
   "id": "6c10daf7",
   "metadata": {},
   "outputs": [],
   "source": []
  },
  {
   "cell_type": "code",
   "execution_count": null,
   "id": "1cf57001",
   "metadata": {},
   "outputs": [],
   "source": []
  },
  {
   "cell_type": "code",
   "execution_count": null,
   "id": "45066497",
   "metadata": {},
   "outputs": [],
   "source": []
  },
  {
   "cell_type": "code",
   "execution_count": null,
   "id": "e4419b1b",
   "metadata": {},
   "outputs": [],
   "source": []
  },
  {
   "cell_type": "code",
   "execution_count": null,
   "id": "ae961a6a",
   "metadata": {},
   "outputs": [],
   "source": []
  },
  {
   "cell_type": "code",
   "execution_count": null,
   "id": "0db6ce80",
   "metadata": {},
   "outputs": [],
   "source": []
  },
  {
   "cell_type": "code",
   "execution_count": null,
   "id": "622d77e5",
   "metadata": {},
   "outputs": [],
   "source": []
  },
  {
   "cell_type": "code",
   "execution_count": null,
   "id": "e5e04146",
   "metadata": {},
   "outputs": [],
   "source": []
  }
 ],
 "metadata": {
  "kernelspec": {
   "display_name": "Python 3 (ipykernel)",
   "language": "python",
   "name": "python3"
  },
  "language_info": {
   "codemirror_mode": {
    "name": "ipython",
    "version": 3
   },
   "file_extension": ".py",
   "mimetype": "text/x-python",
   "name": "python",
   "nbconvert_exporter": "python",
   "pygments_lexer": "ipython3",
   "version": "3.9.13"
  }
 },
 "nbformat": 4,
 "nbformat_minor": 5
}
