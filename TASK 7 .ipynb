{
 "cells": [
  {
   "cell_type": "markdown",
   "id": "0422ae24",
   "metadata": {},
   "source": [
    "# Reading a dataset in csv format"
   ]
  },
  {
   "cell_type": "code",
   "execution_count": 1,
   "id": "ad96021c",
   "metadata": {},
   "outputs": [],
   "source": [
    "import pandas as pd"
   ]
  },
  {
   "cell_type": "code",
   "execution_count": 2,
   "id": "0781bc7a",
   "metadata": {},
   "outputs": [],
   "source": [
    "Superstore = pd.read_csv(r'C:\\Users\\LENOVO\\OneDrive\\Desktop\\Sample - Superstore_Orders.csv')"
   ]
  },
  {
   "cell_type": "code",
   "execution_count": 3,
   "id": "b0a40479",
   "metadata": {},
   "outputs": [
    {
     "data": {
      "text/html": [
       "<div>\n",
       "<style scoped>\n",
       "    .dataframe tbody tr th:only-of-type {\n",
       "        vertical-align: middle;\n",
       "    }\n",
       "\n",
       "    .dataframe tbody tr th {\n",
       "        vertical-align: top;\n",
       "    }\n",
       "\n",
       "    .dataframe thead th {\n",
       "        text-align: right;\n",
       "    }\n",
       "</style>\n",
       "<table border=\"1\" class=\"dataframe\">\n",
       "  <thead>\n",
       "    <tr style=\"text-align: right;\">\n",
       "      <th></th>\n",
       "      <th>Category</th>\n",
       "      <th>City</th>\n",
       "      <th>Country/Region</th>\n",
       "      <th>Customer Name</th>\n",
       "      <th>Manufacturer</th>\n",
       "      <th>Order Date</th>\n",
       "      <th>Order ID</th>\n",
       "      <th>Postal Code</th>\n",
       "      <th>Product Name</th>\n",
       "      <th>Region</th>\n",
       "      <th>Segment</th>\n",
       "      <th>Ship Date</th>\n",
       "      <th>Ship Mode</th>\n",
       "      <th>State/Province</th>\n",
       "      <th>Sub-Category</th>\n",
       "      <th>Discount</th>\n",
       "      <th>Profit</th>\n",
       "      <th>Quantity</th>\n",
       "      <th>Sales</th>\n",
       "    </tr>\n",
       "  </thead>\n",
       "  <tbody>\n",
       "    <tr>\n",
       "      <th>0</th>\n",
       "      <td>Office Supplies</td>\n",
       "      <td>Houston</td>\n",
       "      <td>United States</td>\n",
       "      <td>Darren Powers</td>\n",
       "      <td>Message Book</td>\n",
       "      <td>03-01-2019</td>\n",
       "      <td>US-2019-103800</td>\n",
       "      <td>77095</td>\n",
       "      <td>Message Book, Wirebound, Four 5 1/2\" X 4\" Form...</td>\n",
       "      <td>Central</td>\n",
       "      <td>Consumer</td>\n",
       "      <td>07-01-2019</td>\n",
       "      <td>Standard Class</td>\n",
       "      <td>Texas</td>\n",
       "      <td>Paper</td>\n",
       "      <td>0.2</td>\n",
       "      <td>5.5512</td>\n",
       "      <td>2</td>\n",
       "      <td>16.448</td>\n",
       "    </tr>\n",
       "    <tr>\n",
       "      <th>1</th>\n",
       "      <td>Office Supplies</td>\n",
       "      <td>Naperville</td>\n",
       "      <td>United States</td>\n",
       "      <td>Phillina Ober</td>\n",
       "      <td>GBC</td>\n",
       "      <td>04-01-2019</td>\n",
       "      <td>US-2019-112326</td>\n",
       "      <td>60540</td>\n",
       "      <td>GBC Standard Plastic Binding Systems Combs</td>\n",
       "      <td>Central</td>\n",
       "      <td>Home Office</td>\n",
       "      <td>08-01-2019</td>\n",
       "      <td>Standard Class</td>\n",
       "      <td>Illinois</td>\n",
       "      <td>Binders</td>\n",
       "      <td>0.8</td>\n",
       "      <td>-5.4870</td>\n",
       "      <td>2</td>\n",
       "      <td>3.540</td>\n",
       "    </tr>\n",
       "    <tr>\n",
       "      <th>2</th>\n",
       "      <td>Office Supplies</td>\n",
       "      <td>Naperville</td>\n",
       "      <td>United States</td>\n",
       "      <td>Phillina Ober</td>\n",
       "      <td>Avery</td>\n",
       "      <td>04-01-2019</td>\n",
       "      <td>US-2019-112326</td>\n",
       "      <td>60540</td>\n",
       "      <td>Avery 508</td>\n",
       "      <td>Central</td>\n",
       "      <td>Home Office</td>\n",
       "      <td>08-01-2019</td>\n",
       "      <td>Standard Class</td>\n",
       "      <td>Illinois</td>\n",
       "      <td>Labels</td>\n",
       "      <td>0.2</td>\n",
       "      <td>4.2717</td>\n",
       "      <td>3</td>\n",
       "      <td>11.784</td>\n",
       "    </tr>\n",
       "    <tr>\n",
       "      <th>3</th>\n",
       "      <td>Office Supplies</td>\n",
       "      <td>Naperville</td>\n",
       "      <td>United States</td>\n",
       "      <td>Phillina Ober</td>\n",
       "      <td>SAFCO</td>\n",
       "      <td>04-01-2019</td>\n",
       "      <td>US-2019-112326</td>\n",
       "      <td>60540</td>\n",
       "      <td>SAFCO Boltless Steel Shelving</td>\n",
       "      <td>Central</td>\n",
       "      <td>Home Office</td>\n",
       "      <td>08-01-2019</td>\n",
       "      <td>Standard Class</td>\n",
       "      <td>Illinois</td>\n",
       "      <td>Storage</td>\n",
       "      <td>0.2</td>\n",
       "      <td>-64.7748</td>\n",
       "      <td>3</td>\n",
       "      <td>272.736</td>\n",
       "    </tr>\n",
       "    <tr>\n",
       "      <th>4</th>\n",
       "      <td>Office Supplies</td>\n",
       "      <td>Philadelphia</td>\n",
       "      <td>United States</td>\n",
       "      <td>Mick Brown</td>\n",
       "      <td>Avery</td>\n",
       "      <td>05-01-2019</td>\n",
       "      <td>US-2019-141817</td>\n",
       "      <td>19143</td>\n",
       "      <td>Avery Hi-Liter EverBold Pen Style Fluorescent ...</td>\n",
       "      <td>East</td>\n",
       "      <td>Consumer</td>\n",
       "      <td>12-01-2019</td>\n",
       "      <td>Standard Class</td>\n",
       "      <td>Pennsylvania</td>\n",
       "      <td>Art</td>\n",
       "      <td>0.2</td>\n",
       "      <td>4.8840</td>\n",
       "      <td>3</td>\n",
       "      <td>19.536</td>\n",
       "    </tr>\n",
       "    <tr>\n",
       "      <th>...</th>\n",
       "      <td>...</td>\n",
       "      <td>...</td>\n",
       "      <td>...</td>\n",
       "      <td>...</td>\n",
       "      <td>...</td>\n",
       "      <td>...</td>\n",
       "      <td>...</td>\n",
       "      <td>...</td>\n",
       "      <td>...</td>\n",
       "      <td>...</td>\n",
       "      <td>...</td>\n",
       "      <td>...</td>\n",
       "      <td>...</td>\n",
       "      <td>...</td>\n",
       "      <td>...</td>\n",
       "      <td>...</td>\n",
       "      <td>...</td>\n",
       "      <td>...</td>\n",
       "      <td>...</td>\n",
       "    </tr>\n",
       "    <tr>\n",
       "      <th>10189</th>\n",
       "      <td>Office Supplies</td>\n",
       "      <td>New York City</td>\n",
       "      <td>United States</td>\n",
       "      <td>Patrick O'Donnell</td>\n",
       "      <td>Wilson Jones</td>\n",
       "      <td>30-12-2022</td>\n",
       "      <td>US-2022-143259</td>\n",
       "      <td>10009</td>\n",
       "      <td>Wilson Jones Legal Size Ring Binders</td>\n",
       "      <td>East</td>\n",
       "      <td>Consumer</td>\n",
       "      <td>03-01-2023</td>\n",
       "      <td>Standard Class</td>\n",
       "      <td>New York</td>\n",
       "      <td>Binders</td>\n",
       "      <td>0.2</td>\n",
       "      <td>19.7910</td>\n",
       "      <td>3</td>\n",
       "      <td>52.776</td>\n",
       "    </tr>\n",
       "    <tr>\n",
       "      <th>10190</th>\n",
       "      <td>Office Supplies</td>\n",
       "      <td>Fairfield</td>\n",
       "      <td>United States</td>\n",
       "      <td>Erica Bern</td>\n",
       "      <td>GBC</td>\n",
       "      <td>30-12-2022</td>\n",
       "      <td>US-2022-115427</td>\n",
       "      <td>94533</td>\n",
       "      <td>GBC Binding covers</td>\n",
       "      <td>West</td>\n",
       "      <td>Corporate</td>\n",
       "      <td>03-01-2023</td>\n",
       "      <td>Standard Class</td>\n",
       "      <td>California</td>\n",
       "      <td>Binders</td>\n",
       "      <td>0.2</td>\n",
       "      <td>6.4750</td>\n",
       "      <td>2</td>\n",
       "      <td>20.720</td>\n",
       "    </tr>\n",
       "    <tr>\n",
       "      <th>10191</th>\n",
       "      <td>Office Supplies</td>\n",
       "      <td>Loveland</td>\n",
       "      <td>United States</td>\n",
       "      <td>Jill Matthias</td>\n",
       "      <td>Other</td>\n",
       "      <td>30-12-2022</td>\n",
       "      <td>US-2022-156720</td>\n",
       "      <td>80538</td>\n",
       "      <td>Bagged Rubber Bands</td>\n",
       "      <td>West</td>\n",
       "      <td>Consumer</td>\n",
       "      <td>03-01-2023</td>\n",
       "      <td>Standard Class</td>\n",
       "      <td>Colorado</td>\n",
       "      <td>Fasteners</td>\n",
       "      <td>0.2</td>\n",
       "      <td>-0.6048</td>\n",
       "      <td>3</td>\n",
       "      <td>3.024</td>\n",
       "    </tr>\n",
       "    <tr>\n",
       "      <th>10192</th>\n",
       "      <td>Technology</td>\n",
       "      <td>New York City</td>\n",
       "      <td>United States</td>\n",
       "      <td>Patrick O'Donnell</td>\n",
       "      <td>Other</td>\n",
       "      <td>30-12-2022</td>\n",
       "      <td>US-2022-143259</td>\n",
       "      <td>10009</td>\n",
       "      <td>Gear Head AU3700S Headset</td>\n",
       "      <td>East</td>\n",
       "      <td>Consumer</td>\n",
       "      <td>03-01-2023</td>\n",
       "      <td>Standard Class</td>\n",
       "      <td>New York</td>\n",
       "      <td>Phones</td>\n",
       "      <td>0.0</td>\n",
       "      <td>2.7279</td>\n",
       "      <td>7</td>\n",
       "      <td>90.930</td>\n",
       "    </tr>\n",
       "    <tr>\n",
       "      <th>10193</th>\n",
       "      <td>Office Supplies</td>\n",
       "      <td>Charlottetown</td>\n",
       "      <td>Canada</td>\n",
       "      <td>Harry Olson</td>\n",
       "      <td>Wilson Jones</td>\n",
       "      <td>30-12-2022</td>\n",
       "      <td>CA-2022-143500</td>\n",
       "      <td>C0A</td>\n",
       "      <td>Wilson Jones Impact Binders</td>\n",
       "      <td>East</td>\n",
       "      <td>Consumer</td>\n",
       "      <td>03-01-2023</td>\n",
       "      <td>Standard Class</td>\n",
       "      <td>Prince Edward Island</td>\n",
       "      <td>Binders</td>\n",
       "      <td>0.2</td>\n",
       "      <td>-0.6048</td>\n",
       "      <td>3</td>\n",
       "      <td>3.024</td>\n",
       "    </tr>\n",
       "  </tbody>\n",
       "</table>\n",
       "<p>10194 rows × 19 columns</p>\n",
       "</div>"
      ],
      "text/plain": [
       "              Category           City Country/Region      Customer Name  \\\n",
       "0      Office Supplies        Houston  United States      Darren Powers   \n",
       "1      Office Supplies     Naperville  United States      Phillina Ober   \n",
       "2      Office Supplies     Naperville  United States      Phillina Ober   \n",
       "3      Office Supplies     Naperville  United States      Phillina Ober   \n",
       "4      Office Supplies   Philadelphia  United States         Mick Brown   \n",
       "...                ...            ...            ...                ...   \n",
       "10189  Office Supplies  New York City  United States  Patrick O'Donnell   \n",
       "10190  Office Supplies      Fairfield  United States         Erica Bern   \n",
       "10191  Office Supplies       Loveland  United States      Jill Matthias   \n",
       "10192       Technology  New York City  United States  Patrick O'Donnell   \n",
       "10193  Office Supplies  Charlottetown         Canada        Harry Olson   \n",
       "\n",
       "       Manufacturer  Order Date        Order ID Postal Code  \\\n",
       "0      Message Book  03-01-2019  US-2019-103800       77095   \n",
       "1               GBC  04-01-2019  US-2019-112326       60540   \n",
       "2             Avery  04-01-2019  US-2019-112326       60540   \n",
       "3             SAFCO  04-01-2019  US-2019-112326       60540   \n",
       "4             Avery  05-01-2019  US-2019-141817       19143   \n",
       "...             ...         ...             ...         ...   \n",
       "10189  Wilson Jones  30-12-2022  US-2022-143259       10009   \n",
       "10190           GBC  30-12-2022  US-2022-115427       94533   \n",
       "10191         Other  30-12-2022  US-2022-156720       80538   \n",
       "10192         Other  30-12-2022  US-2022-143259       10009   \n",
       "10193  Wilson Jones  30-12-2022  CA-2022-143500         C0A   \n",
       "\n",
       "                                            Product Name   Region  \\\n",
       "0      Message Book, Wirebound, Four 5 1/2\" X 4\" Form...  Central   \n",
       "1             GBC Standard Plastic Binding Systems Combs  Central   \n",
       "2                                              Avery 508  Central   \n",
       "3                          SAFCO Boltless Steel Shelving  Central   \n",
       "4      Avery Hi-Liter EverBold Pen Style Fluorescent ...     East   \n",
       "...                                                  ...      ...   \n",
       "10189               Wilson Jones Legal Size Ring Binders     East   \n",
       "10190                                 GBC Binding covers     West   \n",
       "10191                                Bagged Rubber Bands     West   \n",
       "10192                          Gear Head AU3700S Headset     East   \n",
       "10193                        Wilson Jones Impact Binders     East   \n",
       "\n",
       "           Segment   Ship Date       Ship Mode        State/Province  \\\n",
       "0         Consumer  07-01-2019  Standard Class                 Texas   \n",
       "1      Home Office  08-01-2019  Standard Class              Illinois   \n",
       "2      Home Office  08-01-2019  Standard Class              Illinois   \n",
       "3      Home Office  08-01-2019  Standard Class              Illinois   \n",
       "4         Consumer  12-01-2019  Standard Class          Pennsylvania   \n",
       "...            ...         ...             ...                   ...   \n",
       "10189     Consumer  03-01-2023  Standard Class              New York   \n",
       "10190    Corporate  03-01-2023  Standard Class            California   \n",
       "10191     Consumer  03-01-2023  Standard Class              Colorado   \n",
       "10192     Consumer  03-01-2023  Standard Class              New York   \n",
       "10193     Consumer  03-01-2023  Standard Class  Prince Edward Island   \n",
       "\n",
       "      Sub-Category  Discount   Profit  Quantity    Sales  \n",
       "0            Paper       0.2   5.5512         2   16.448  \n",
       "1          Binders       0.8  -5.4870         2    3.540  \n",
       "2           Labels       0.2   4.2717         3   11.784  \n",
       "3          Storage       0.2 -64.7748         3  272.736  \n",
       "4              Art       0.2   4.8840         3   19.536  \n",
       "...            ...       ...      ...       ...      ...  \n",
       "10189      Binders       0.2  19.7910         3   52.776  \n",
       "10190      Binders       0.2   6.4750         2   20.720  \n",
       "10191    Fasteners       0.2  -0.6048         3    3.024  \n",
       "10192       Phones       0.0   2.7279         7   90.930  \n",
       "10193      Binders       0.2  -0.6048         3    3.024  \n",
       "\n",
       "[10194 rows x 19 columns]"
      ]
     },
     "execution_count": 3,
     "metadata": {},
     "output_type": "execute_result"
    }
   ],
   "source": [
    "Superstore"
   ]
  },
  {
   "cell_type": "code",
   "execution_count": 4,
   "id": "85514446",
   "metadata": {},
   "outputs": [
    {
     "data": {
      "text/plain": [
       "Index(['Category', 'City', 'Country/Region', 'Customer Name', 'Manufacturer',\n",
       "       'Order Date', 'Order ID', 'Postal Code', 'Product Name', 'Region',\n",
       "       'Segment', 'Ship Date', 'Ship Mode', 'State/Province', 'Sub-Category',\n",
       "       'Discount', 'Profit', 'Quantity', 'Sales'],\n",
       "      dtype='object')"
      ]
     },
     "execution_count": 4,
     "metadata": {},
     "output_type": "execute_result"
    }
   ],
   "source": [
    "Superstore.columns"
   ]
  },
  {
   "cell_type": "code",
   "execution_count": 5,
   "id": "bbaf2d45",
   "metadata": {},
   "outputs": [
    {
     "data": {
      "text/plain": [
       "19"
      ]
     },
     "execution_count": 5,
     "metadata": {},
     "output_type": "execute_result"
    }
   ],
   "source": [
    "len(Superstore.columns)"
   ]
  },
  {
   "cell_type": "code",
   "execution_count": 6,
   "id": "bef0ec14",
   "metadata": {},
   "outputs": [
    {
     "data": {
      "text/plain": [
       "10194"
      ]
     },
     "execution_count": 6,
     "metadata": {},
     "output_type": "execute_result"
    }
   ],
   "source": [
    "len(Superstore)"
   ]
  },
  {
   "cell_type": "code",
   "execution_count": 7,
   "id": "099206f7",
   "metadata": {},
   "outputs": [
    {
     "data": {
      "text/plain": [
       "(10194, 19)"
      ]
     },
     "execution_count": 7,
     "metadata": {},
     "output_type": "execute_result"
    }
   ],
   "source": [
    "Superstore.shape"
   ]
  },
  {
   "cell_type": "markdown",
   "id": "a81c70be",
   "metadata": {},
   "source": [
    "# Reading a dataset  in Excel format"
   ]
  },
  {
   "cell_type": "code",
   "execution_count": 8,
   "id": "f6f3c23e",
   "metadata": {},
   "outputs": [],
   "source": [
    "Superstore1 = pd.read_excel(r'C:\\Users\\LENOVO\\OneDrive\\Desktop\\file_example_XLSX_1000.xlsx')"
   ]
  },
  {
   "cell_type": "code",
   "execution_count": 9,
   "id": "05a4df41",
   "metadata": {},
   "outputs": [
    {
     "data": {
      "text/html": [
       "<div>\n",
       "<style scoped>\n",
       "    .dataframe tbody tr th:only-of-type {\n",
       "        vertical-align: middle;\n",
       "    }\n",
       "\n",
       "    .dataframe tbody tr th {\n",
       "        vertical-align: top;\n",
       "    }\n",
       "\n",
       "    .dataframe thead th {\n",
       "        text-align: right;\n",
       "    }\n",
       "</style>\n",
       "<table border=\"1\" class=\"dataframe\">\n",
       "  <thead>\n",
       "    <tr style=\"text-align: right;\">\n",
       "      <th></th>\n",
       "      <th>Unnamed: 0</th>\n",
       "      <th>First Name</th>\n",
       "      <th>Last Name</th>\n",
       "      <th>Gender</th>\n",
       "      <th>Country</th>\n",
       "      <th>Age</th>\n",
       "      <th>Date</th>\n",
       "      <th>Id</th>\n",
       "    </tr>\n",
       "  </thead>\n",
       "  <tbody>\n",
       "    <tr>\n",
       "      <th>0</th>\n",
       "      <td>1</td>\n",
       "      <td>Dulce</td>\n",
       "      <td>Abril</td>\n",
       "      <td>Female</td>\n",
       "      <td>United States</td>\n",
       "      <td>32</td>\n",
       "      <td>15/10/2017</td>\n",
       "      <td>1562</td>\n",
       "    </tr>\n",
       "    <tr>\n",
       "      <th>1</th>\n",
       "      <td>2</td>\n",
       "      <td>Mara</td>\n",
       "      <td>Hashimoto</td>\n",
       "      <td>Female</td>\n",
       "      <td>Great Britain</td>\n",
       "      <td>25</td>\n",
       "      <td>16/08/2016</td>\n",
       "      <td>1582</td>\n",
       "    </tr>\n",
       "    <tr>\n",
       "      <th>2</th>\n",
       "      <td>3</td>\n",
       "      <td>Philip</td>\n",
       "      <td>Gent</td>\n",
       "      <td>Male</td>\n",
       "      <td>France</td>\n",
       "      <td>36</td>\n",
       "      <td>21/05/2015</td>\n",
       "      <td>2587</td>\n",
       "    </tr>\n",
       "    <tr>\n",
       "      <th>3</th>\n",
       "      <td>4</td>\n",
       "      <td>Kathleen</td>\n",
       "      <td>Hanner</td>\n",
       "      <td>Female</td>\n",
       "      <td>United States</td>\n",
       "      <td>25</td>\n",
       "      <td>15/10/2017</td>\n",
       "      <td>3549</td>\n",
       "    </tr>\n",
       "    <tr>\n",
       "      <th>4</th>\n",
       "      <td>5</td>\n",
       "      <td>Nereida</td>\n",
       "      <td>Magwood</td>\n",
       "      <td>Female</td>\n",
       "      <td>United States</td>\n",
       "      <td>58</td>\n",
       "      <td>16/08/2016</td>\n",
       "      <td>2468</td>\n",
       "    </tr>\n",
       "    <tr>\n",
       "      <th>...</th>\n",
       "      <td>...</td>\n",
       "      <td>...</td>\n",
       "      <td>...</td>\n",
       "      <td>...</td>\n",
       "      <td>...</td>\n",
       "      <td>...</td>\n",
       "      <td>...</td>\n",
       "      <td>...</td>\n",
       "    </tr>\n",
       "    <tr>\n",
       "      <th>995</th>\n",
       "      <td>996</td>\n",
       "      <td>Roma</td>\n",
       "      <td>Lafollette</td>\n",
       "      <td>Female</td>\n",
       "      <td>United States</td>\n",
       "      <td>34</td>\n",
       "      <td>15/10/2017</td>\n",
       "      <td>2654</td>\n",
       "    </tr>\n",
       "    <tr>\n",
       "      <th>996</th>\n",
       "      <td>997</td>\n",
       "      <td>Felisa</td>\n",
       "      <td>Cail</td>\n",
       "      <td>Female</td>\n",
       "      <td>United States</td>\n",
       "      <td>28</td>\n",
       "      <td>16/08/2016</td>\n",
       "      <td>6525</td>\n",
       "    </tr>\n",
       "    <tr>\n",
       "      <th>997</th>\n",
       "      <td>998</td>\n",
       "      <td>Demetria</td>\n",
       "      <td>Abbey</td>\n",
       "      <td>Female</td>\n",
       "      <td>United States</td>\n",
       "      <td>32</td>\n",
       "      <td>21/05/2015</td>\n",
       "      <td>3265</td>\n",
       "    </tr>\n",
       "    <tr>\n",
       "      <th>998</th>\n",
       "      <td>999</td>\n",
       "      <td>Jeromy</td>\n",
       "      <td>Danz</td>\n",
       "      <td>Male</td>\n",
       "      <td>United States</td>\n",
       "      <td>39</td>\n",
       "      <td>15/10/2017</td>\n",
       "      <td>3265</td>\n",
       "    </tr>\n",
       "    <tr>\n",
       "      <th>999</th>\n",
       "      <td>1000</td>\n",
       "      <td>Rasheeda</td>\n",
       "      <td>Alkire</td>\n",
       "      <td>Female</td>\n",
       "      <td>United States</td>\n",
       "      <td>29</td>\n",
       "      <td>16/08/2016</td>\n",
       "      <td>6125</td>\n",
       "    </tr>\n",
       "  </tbody>\n",
       "</table>\n",
       "<p>1000 rows × 8 columns</p>\n",
       "</div>"
      ],
      "text/plain": [
       "     Unnamed: 0 First Name   Last Name  Gender        Country  Age  \\\n",
       "0             1      Dulce       Abril  Female  United States   32   \n",
       "1             2       Mara   Hashimoto  Female  Great Britain   25   \n",
       "2             3     Philip        Gent    Male         France   36   \n",
       "3             4   Kathleen      Hanner  Female  United States   25   \n",
       "4             5    Nereida     Magwood  Female  United States   58   \n",
       "..          ...        ...         ...     ...            ...  ...   \n",
       "995         996       Roma  Lafollette  Female  United States   34   \n",
       "996         997     Felisa        Cail  Female  United States   28   \n",
       "997         998   Demetria       Abbey  Female  United States   32   \n",
       "998         999     Jeromy        Danz    Male  United States   39   \n",
       "999        1000   Rasheeda      Alkire  Female  United States   29   \n",
       "\n",
       "           Date    Id  \n",
       "0    15/10/2017  1562  \n",
       "1    16/08/2016  1582  \n",
       "2    21/05/2015  2587  \n",
       "3    15/10/2017  3549  \n",
       "4    16/08/2016  2468  \n",
       "..          ...   ...  \n",
       "995  15/10/2017  2654  \n",
       "996  16/08/2016  6525  \n",
       "997  21/05/2015  3265  \n",
       "998  15/10/2017  3265  \n",
       "999  16/08/2016  6125  \n",
       "\n",
       "[1000 rows x 8 columns]"
      ]
     },
     "execution_count": 9,
     "metadata": {},
     "output_type": "execute_result"
    }
   ],
   "source": [
    "Superstore1"
   ]
  },
  {
   "cell_type": "code",
   "execution_count": 10,
   "id": "f893266f",
   "metadata": {},
   "outputs": [
    {
     "data": {
      "text/plain": [
       "(1000, 8)"
      ]
     },
     "execution_count": 10,
     "metadata": {},
     "output_type": "execute_result"
    }
   ],
   "source": [
    "Superstore1.shape"
   ]
  },
  {
   "cell_type": "code",
   "execution_count": 11,
   "id": "2e19f5df",
   "metadata": {},
   "outputs": [
    {
     "data": {
      "text/plain": [
       "Index(['Unnamed: 0', 'First Name', 'Last Name', 'Gender', 'Country', 'Age',\n",
       "       'Date', 'Id'],\n",
       "      dtype='object')"
      ]
     },
     "execution_count": 11,
     "metadata": {},
     "output_type": "execute_result"
    }
   ],
   "source": [
    "Superstore1.columns"
   ]
  },
  {
   "cell_type": "code",
   "execution_count": 12,
   "id": "95012897",
   "metadata": {},
   "outputs": [
    {
     "data": {
      "text/plain": [
       "1000"
      ]
     },
     "execution_count": 12,
     "metadata": {},
     "output_type": "execute_result"
    }
   ],
   "source": [
    "len(Superstore1)"
   ]
  },
  {
   "cell_type": "code",
   "execution_count": 13,
   "id": "396b0634",
   "metadata": {},
   "outputs": [
    {
     "data": {
      "text/plain": [
       "19"
      ]
     },
     "execution_count": 13,
     "metadata": {},
     "output_type": "execute_result"
    }
   ],
   "source": [
    "len(Superstore.columns)"
   ]
  },
  {
   "cell_type": "markdown",
   "id": "956e546f",
   "metadata": {},
   "source": [
    "# Reading a dataset in HTML format"
   ]
  },
  {
   "cell_type": "code",
   "execution_count": 14,
   "id": "ba5e66f0",
   "metadata": {},
   "outputs": [],
   "source": [
    "df = pd.read_html(r'C:\\Users\\LENOVO\\OneDrive\\Desktop\\data.html')"
   ]
  },
  {
   "cell_type": "code",
   "execution_count": 15,
   "id": "311d5017",
   "metadata": {},
   "outputs": [
    {
     "data": {
      "text/plain": [
       "[                        Company           Contact  Country\n",
       " 0           Alfreds Futterkiste      Maria Anders  Germany\n",
       " 1    Centro comercial Moctezuma   Francisco Chang   Mexico\n",
       " 2                  Ernst Handel     Roland Mendel  Austria\n",
       " 3                Island Trading     Helen Bennett       UK\n",
       " 4  Laughing Bacchus Winecellars   Yoshi Tannamuri   Canada\n",
       " 5  Magazzini Alimentari Riuniti  Giovanni Rovelli    Italy]"
      ]
     },
     "execution_count": 15,
     "metadata": {},
     "output_type": "execute_result"
    }
   ],
   "source": [
    "df"
   ]
  },
  {
   "cell_type": "code",
   "execution_count": 16,
   "id": "50f4e412",
   "metadata": {},
   "outputs": [],
   "source": [
    "a = df[0]"
   ]
  },
  {
   "cell_type": "code",
   "execution_count": 17,
   "id": "adaafca8",
   "metadata": {},
   "outputs": [
    {
     "data": {
      "text/html": [
       "<div>\n",
       "<style scoped>\n",
       "    .dataframe tbody tr th:only-of-type {\n",
       "        vertical-align: middle;\n",
       "    }\n",
       "\n",
       "    .dataframe tbody tr th {\n",
       "        vertical-align: top;\n",
       "    }\n",
       "\n",
       "    .dataframe thead th {\n",
       "        text-align: right;\n",
       "    }\n",
       "</style>\n",
       "<table border=\"1\" class=\"dataframe\">\n",
       "  <thead>\n",
       "    <tr style=\"text-align: right;\">\n",
       "      <th></th>\n",
       "      <th>Company</th>\n",
       "      <th>Contact</th>\n",
       "      <th>Country</th>\n",
       "    </tr>\n",
       "  </thead>\n",
       "  <tbody>\n",
       "    <tr>\n",
       "      <th>0</th>\n",
       "      <td>Alfreds Futterkiste</td>\n",
       "      <td>Maria Anders</td>\n",
       "      <td>Germany</td>\n",
       "    </tr>\n",
       "    <tr>\n",
       "      <th>1</th>\n",
       "      <td>Centro comercial Moctezuma</td>\n",
       "      <td>Francisco Chang</td>\n",
       "      <td>Mexico</td>\n",
       "    </tr>\n",
       "    <tr>\n",
       "      <th>2</th>\n",
       "      <td>Ernst Handel</td>\n",
       "      <td>Roland Mendel</td>\n",
       "      <td>Austria</td>\n",
       "    </tr>\n",
       "    <tr>\n",
       "      <th>3</th>\n",
       "      <td>Island Trading</td>\n",
       "      <td>Helen Bennett</td>\n",
       "      <td>UK</td>\n",
       "    </tr>\n",
       "    <tr>\n",
       "      <th>4</th>\n",
       "      <td>Laughing Bacchus Winecellars</td>\n",
       "      <td>Yoshi Tannamuri</td>\n",
       "      <td>Canada</td>\n",
       "    </tr>\n",
       "    <tr>\n",
       "      <th>5</th>\n",
       "      <td>Magazzini Alimentari Riuniti</td>\n",
       "      <td>Giovanni Rovelli</td>\n",
       "      <td>Italy</td>\n",
       "    </tr>\n",
       "  </tbody>\n",
       "</table>\n",
       "</div>"
      ],
      "text/plain": [
       "                        Company           Contact  Country\n",
       "0           Alfreds Futterkiste      Maria Anders  Germany\n",
       "1    Centro comercial Moctezuma   Francisco Chang   Mexico\n",
       "2                  Ernst Handel     Roland Mendel  Austria\n",
       "3                Island Trading     Helen Bennett       UK\n",
       "4  Laughing Bacchus Winecellars   Yoshi Tannamuri   Canada\n",
       "5  Magazzini Alimentari Riuniti  Giovanni Rovelli    Italy"
      ]
     },
     "execution_count": 17,
     "metadata": {},
     "output_type": "execute_result"
    }
   ],
   "source": [
    "a"
   ]
  },
  {
   "cell_type": "code",
   "execution_count": 18,
   "id": "4fa60a8b",
   "metadata": {},
   "outputs": [
    {
     "data": {
      "text/plain": [
       "Index(['Company', 'Contact', 'Country'], dtype='object')"
      ]
     },
     "execution_count": 18,
     "metadata": {},
     "output_type": "execute_result"
    }
   ],
   "source": [
    "a.columns"
   ]
  },
  {
   "cell_type": "code",
   "execution_count": 19,
   "id": "b2a340c8",
   "metadata": {},
   "outputs": [
    {
     "data": {
      "text/plain": [
       "3"
      ]
     },
     "execution_count": 19,
     "metadata": {},
     "output_type": "execute_result"
    }
   ],
   "source": [
    "len(a.columns)"
   ]
  },
  {
   "cell_type": "code",
   "execution_count": 20,
   "id": "0a1771d0",
   "metadata": {},
   "outputs": [
    {
     "data": {
      "text/plain": [
       "6"
      ]
     },
     "execution_count": 20,
     "metadata": {},
     "output_type": "execute_result"
    }
   ],
   "source": [
    "len(a)"
   ]
  },
  {
   "cell_type": "code",
   "execution_count": 21,
   "id": "b1294d30",
   "metadata": {},
   "outputs": [
    {
     "data": {
      "text/plain": [
       "(6, 3)"
      ]
     },
     "execution_count": 21,
     "metadata": {},
     "output_type": "execute_result"
    }
   ],
   "source": [
    "a.shape"
   ]
  },
  {
   "cell_type": "markdown",
   "id": "97857041",
   "metadata": {},
   "source": [
    "# Reading a dataset into json "
   ]
  },
  {
   "cell_type": "code",
   "execution_count": 22,
   "id": "617780ac",
   "metadata": {},
   "outputs": [],
   "source": [
    "import pandas as pd\n",
    "ds = pd.read_json(r'C:\\Users\\LENOVO\\OneDrive\\Desktop\\jsondata.json')"
   ]
  },
  {
   "cell_type": "code",
   "execution_count": 23,
   "id": "c19ba8b6",
   "metadata": {},
   "outputs": [
    {
     "data": {
      "text/html": [
       "<div>\n",
       "<style scoped>\n",
       "    .dataframe tbody tr th:only-of-type {\n",
       "        vertical-align: middle;\n",
       "    }\n",
       "\n",
       "    .dataframe tbody tr th {\n",
       "        vertical-align: top;\n",
       "    }\n",
       "\n",
       "    .dataframe thead th {\n",
       "        text-align: right;\n",
       "    }\n",
       "</style>\n",
       "<table border=\"1\" class=\"dataframe\">\n",
       "  <thead>\n",
       "    <tr style=\"text-align: right;\">\n",
       "      <th></th>\n",
       "      <th>Seasons</th>\n",
       "      <th>Players</th>\n",
       "      <th>Sachin_Salary</th>\n",
       "      <th>Rahul_Salary</th>\n",
       "      <th>Smith_Salary</th>\n",
       "      <th>Sami_Salary</th>\n",
       "      <th>Pollard_Salary</th>\n",
       "      <th>Morris_Salary</th>\n",
       "      <th>Samson_Salary</th>\n",
       "      <th>Dhoni_Salary</th>\n",
       "      <th>Kohli_Salary</th>\n",
       "      <th>Sky_Salary</th>\n",
       "    </tr>\n",
       "  </thead>\n",
       "  <tbody>\n",
       "    <tr>\n",
       "      <th>0</th>\n",
       "      <td>2010</td>\n",
       "      <td>Sachin</td>\n",
       "      <td>15946875</td>\n",
       "      <td>12000000</td>\n",
       "      <td>4621800</td>\n",
       "      <td>3713640</td>\n",
       "      <td>4493160</td>\n",
       "      <td>3348000</td>\n",
       "      <td>3144240</td>\n",
       "      <td>0</td>\n",
       "      <td>0</td>\n",
       "      <td>3031920</td>\n",
       "    </tr>\n",
       "    <tr>\n",
       "      <th>1</th>\n",
       "      <td>2011</td>\n",
       "      <td>Rahul</td>\n",
       "      <td>17718750</td>\n",
       "      <td>12744189</td>\n",
       "      <td>5828090</td>\n",
       "      <td>4694041</td>\n",
       "      <td>4806720</td>\n",
       "      <td>4235220</td>\n",
       "      <td>3380160</td>\n",
       "      <td>0</td>\n",
       "      <td>0</td>\n",
       "      <td>3841443</td>\n",
       "    </tr>\n",
       "    <tr>\n",
       "      <th>2</th>\n",
       "      <td>2012</td>\n",
       "      <td>Smith</td>\n",
       "      <td>19490625</td>\n",
       "      <td>13488377</td>\n",
       "      <td>13041250</td>\n",
       "      <td>13041250</td>\n",
       "      <td>6061274</td>\n",
       "      <td>12455000</td>\n",
       "      <td>3615960</td>\n",
       "      <td>4171200</td>\n",
       "      <td>0</td>\n",
       "      <td>13041250</td>\n",
       "    </tr>\n",
       "    <tr>\n",
       "      <th>3</th>\n",
       "      <td>2013</td>\n",
       "      <td>Sami</td>\n",
       "      <td>21262500</td>\n",
       "      <td>14232567</td>\n",
       "      <td>14410581</td>\n",
       "      <td>14410581</td>\n",
       "      <td>13758000</td>\n",
       "      <td>14410581</td>\n",
       "      <td>4574189</td>\n",
       "      <td>4484040</td>\n",
       "      <td>4822800</td>\n",
       "      <td>14410581</td>\n",
       "    </tr>\n",
       "    <tr>\n",
       "      <th>4</th>\n",
       "      <td>2014</td>\n",
       "      <td>Pollard</td>\n",
       "      <td>23034375</td>\n",
       "      <td>14976754</td>\n",
       "      <td>15779912</td>\n",
       "      <td>15779912</td>\n",
       "      <td>15202590</td>\n",
       "      <td>15779912</td>\n",
       "      <td>13520500</td>\n",
       "      <td>4796880</td>\n",
       "      <td>5184480</td>\n",
       "      <td>15779912</td>\n",
       "    </tr>\n",
       "    <tr>\n",
       "      <th>5</th>\n",
       "      <td>2015</td>\n",
       "      <td>Morris</td>\n",
       "      <td>24806250</td>\n",
       "      <td>16324500</td>\n",
       "      <td>14500000</td>\n",
       "      <td>17149243</td>\n",
       "      <td>16647180</td>\n",
       "      <td>14500000</td>\n",
       "      <td>14940153</td>\n",
       "      <td>6053663</td>\n",
       "      <td>5546160</td>\n",
       "      <td>14200000</td>\n",
       "    </tr>\n",
       "    <tr>\n",
       "      <th>6</th>\n",
       "      <td>2016</td>\n",
       "      <td>Samson</td>\n",
       "      <td>25244493</td>\n",
       "      <td>18038573</td>\n",
       "      <td>16022500</td>\n",
       "      <td>18518574</td>\n",
       "      <td>18091770</td>\n",
       "      <td>16022500</td>\n",
       "      <td>16359805</td>\n",
       "      <td>15506632</td>\n",
       "      <td>6993708</td>\n",
       "      <td>15691000</td>\n",
       "    </tr>\n",
       "    <tr>\n",
       "      <th>7</th>\n",
       "      <td>2017</td>\n",
       "      <td>Dhoni</td>\n",
       "      <td>27849149</td>\n",
       "      <td>19752645</td>\n",
       "      <td>17545000</td>\n",
       "      <td>19450000</td>\n",
       "      <td>19536360</td>\n",
       "      <td>17545000</td>\n",
       "      <td>17779458</td>\n",
       "      <td>16669630</td>\n",
       "      <td>16402500</td>\n",
       "      <td>17182000</td>\n",
       "    </tr>\n",
       "    <tr>\n",
       "      <th>8</th>\n",
       "      <td>2018</td>\n",
       "      <td>Kohli</td>\n",
       "      <td>30453805</td>\n",
       "      <td>21466718</td>\n",
       "      <td>19067500</td>\n",
       "      <td>22407474</td>\n",
       "      <td>20513178</td>\n",
       "      <td>19067500</td>\n",
       "      <td>18668431</td>\n",
       "      <td>17832627</td>\n",
       "      <td>17632688</td>\n",
       "      <td>18673000</td>\n",
       "    </tr>\n",
       "    <tr>\n",
       "      <th>9</th>\n",
       "      <td>2019</td>\n",
       "      <td>Sky</td>\n",
       "      <td>23500000</td>\n",
       "      <td>23180790</td>\n",
       "      <td>20644400</td>\n",
       "      <td>22458000</td>\n",
       "      <td>21436271</td>\n",
       "      <td>20644400</td>\n",
       "      <td>20068563</td>\n",
       "      <td>18995624</td>\n",
       "      <td>18862875</td>\n",
       "      <td>15000000</td>\n",
       "    </tr>\n",
       "  </tbody>\n",
       "</table>\n",
       "</div>"
      ],
      "text/plain": [
       "   Seasons  Players  Sachin_Salary  Rahul_Salary  Smith_Salary  Sami_Salary  \\\n",
       "0     2010   Sachin       15946875      12000000       4621800      3713640   \n",
       "1     2011    Rahul       17718750      12744189       5828090      4694041   \n",
       "2     2012    Smith       19490625      13488377      13041250     13041250   \n",
       "3     2013     Sami       21262500      14232567      14410581     14410581   \n",
       "4     2014  Pollard       23034375      14976754      15779912     15779912   \n",
       "5     2015   Morris       24806250      16324500      14500000     17149243   \n",
       "6     2016   Samson       25244493      18038573      16022500     18518574   \n",
       "7     2017    Dhoni       27849149      19752645      17545000     19450000   \n",
       "8     2018    Kohli       30453805      21466718      19067500     22407474   \n",
       "9     2019      Sky       23500000      23180790      20644400     22458000   \n",
       "\n",
       "   Pollard_Salary  Morris_Salary  Samson_Salary  Dhoni_Salary  Kohli_Salary  \\\n",
       "0         4493160        3348000        3144240             0             0   \n",
       "1         4806720        4235220        3380160             0             0   \n",
       "2         6061274       12455000        3615960       4171200             0   \n",
       "3        13758000       14410581        4574189       4484040       4822800   \n",
       "4        15202590       15779912       13520500       4796880       5184480   \n",
       "5        16647180       14500000       14940153       6053663       5546160   \n",
       "6        18091770       16022500       16359805      15506632       6993708   \n",
       "7        19536360       17545000       17779458      16669630      16402500   \n",
       "8        20513178       19067500       18668431      17832627      17632688   \n",
       "9        21436271       20644400       20068563      18995624      18862875   \n",
       "\n",
       "   Sky_Salary  \n",
       "0     3031920  \n",
       "1     3841443  \n",
       "2    13041250  \n",
       "3    14410581  \n",
       "4    15779912  \n",
       "5    14200000  \n",
       "6    15691000  \n",
       "7    17182000  \n",
       "8    18673000  \n",
       "9    15000000  "
      ]
     },
     "execution_count": 23,
     "metadata": {},
     "output_type": "execute_result"
    }
   ],
   "source": [
    "ds"
   ]
  },
  {
   "cell_type": "code",
   "execution_count": 24,
   "id": "24e02844",
   "metadata": {},
   "outputs": [
    {
     "data": {
      "text/plain": [
       "Index(['Seasons', 'Players', 'Sachin_Salary', 'Rahul_Salary', 'Smith_Salary',\n",
       "       'Sami_Salary', 'Pollard_Salary', 'Morris_Salary', 'Samson_Salary',\n",
       "       'Dhoni_Salary', 'Kohli_Salary', 'Sky_Salary'],\n",
       "      dtype='object')"
      ]
     },
     "execution_count": 24,
     "metadata": {},
     "output_type": "execute_result"
    }
   ],
   "source": [
    "ds.columns"
   ]
  },
  {
   "cell_type": "code",
   "execution_count": 25,
   "id": "2821aa8d",
   "metadata": {},
   "outputs": [
    {
     "data": {
      "text/plain": [
       "12"
      ]
     },
     "execution_count": 25,
     "metadata": {},
     "output_type": "execute_result"
    }
   ],
   "source": [
    "len(ds.columns)"
   ]
  },
  {
   "cell_type": "code",
   "execution_count": 26,
   "id": "a50c62ce",
   "metadata": {},
   "outputs": [
    {
     "data": {
      "text/plain": [
       "10"
      ]
     },
     "execution_count": 26,
     "metadata": {},
     "output_type": "execute_result"
    }
   ],
   "source": [
    "len(ds)"
   ]
  }
 ],
 "metadata": {
  "kernelspec": {
   "display_name": "Python 3 (ipykernel)",
   "language": "python",
   "name": "python3"
  },
  "language_info": {
   "codemirror_mode": {
    "name": "ipython",
    "version": 3
   },
   "file_extension": ".py",
   "mimetype": "text/x-python",
   "name": "python",
   "nbconvert_exporter": "python",
   "pygments_lexer": "ipython3",
   "version": "3.9.13"
  }
 },
 "nbformat": 4,
 "nbformat_minor": 5
}
